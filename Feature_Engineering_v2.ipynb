{
  "nbformat": 4,
  "nbformat_minor": 0,
  "metadata": {
    "colab": {
      "name": "Feature Engineering v2.ipynb",
      "provenance": [],
      "collapsed_sections": [],
      "machine_shape": "hm",
      "include_colab_link": true
    },
    "kernelspec": {
      "name": "python3",
      "display_name": "Python 3"
    },
    "accelerator": "GPU"
  },
  "cells": [
    {
      "cell_type": "markdown",
      "metadata": {
        "id": "view-in-github",
        "colab_type": "text"
      },
      "source": [
        "<a href=\"https://colab.research.google.com/github/markerenberg/Toxic-Comment-Classification/blob/master/Feature_Engineering_v2.ipynb\" target=\"_parent\"><img src=\"https://colab.research.google.com/assets/colab-badge.svg\" alt=\"Open In Colab\"/></a>"
      ]
    },
    {
      "cell_type": "code",
      "metadata": {
        "id": "_6AvEhk7_upV",
        "colab_type": "code",
        "outputId": "2741c92b-3001-43cb-fac7-277d292e08a0",
        "colab": {
          "base_uri": "https://localhost:8080/",
          "height": 97
        }
      },
      "source": [
        "# Check if GPU is enabled\n",
        "import tensorflow as tf\n",
        "tf.test.gpu_device_name()"
      ],
      "execution_count": 0,
      "outputs": [
        {
          "output_type": "display_data",
          "data": {
            "text/html": [
              "<p style=\"color: red;\">\n",
              "The default version of TensorFlow in Colab will soon switch to TensorFlow 2.x.<br>\n",
              "We recommend you <a href=\"https://www.tensorflow.org/guide/migrate\" target=\"_blank\">upgrade</a> now \n",
              "or ensure your notebook will continue to use TensorFlow 1.x via the <code>%tensorflow_version 1.x</code> magic:\n",
              "<a href=\"https://colab.research.google.com/notebooks/tensorflow_version.ipynb\" target=\"_blank\">more info</a>.</p>\n"
            ],
            "text/plain": [
              "<IPython.core.display.HTML object>"
            ]
          },
          "metadata": {
            "tags": []
          }
        },
        {
          "output_type": "execute_result",
          "data": {
            "text/plain": [
              "''"
            ]
          },
          "metadata": {
            "tags": []
          },
          "execution_count": 1
        }
      ]
    },
    {
      "cell_type": "code",
      "metadata": {
        "id": "GHXV-Uu90Ldo",
        "colab_type": "code",
        "outputId": "881d7676-b5db-40b3-a313-43ad45a56e1d",
        "colab": {
          "base_uri": "https://localhost:8080/",
          "height": 233
        }
      },
      "source": [
        "##\n",
        "## =======================================================\n",
        "## Mark Erenberg \n",
        "## Toxic Comment Classification Challenge\n",
        "## =======================================================\n",
        "##\n",
        "\n",
        "# Objective: Create a model which predicts a probability of each type of toxicity for each comment.\n",
        "\n",
        "# import dependencies and files\n",
        "\n",
        "import os\n",
        "import time\n",
        "import pandas as pd\n",
        "import numpy as np\n",
        "from scipy import sparse\n",
        "from scipy.sparse import hstack\n",
        "import itertools\n",
        "import matplotlib.pyplot as plt\n",
        "import re\n",
        "import tempfile\n",
        "\n",
        "import lightgbm as lgb\n",
        "\n",
        "import nltk\n",
        "from nltk.stem.snowball import SnowballStemmer\n",
        "from nltk.stem import WordNetLemmatizer\n",
        "from nltk.corpus import wordnet\n",
        "from nltk import pos_tag, word_tokenize\n",
        "\n",
        "import gensim\n",
        "import gensim.models.keyedvectors as word2vec\n",
        "from gensim.models.fasttext import FastText\n",
        "from gensim.models.word2vec import Word2Vec\n",
        "\n",
        "import spacy\n",
        "import en_core_web_sm\n",
        "#spacy_nlp = en_core_web_sm.load()\n",
        "#spacy_nlp = spacy.load('en_core_web_sm')\n",
        "\n",
        "from collections import Counter, defaultdict\n",
        "\n",
        "from sklearn import utils\n",
        "from sklearn.feature_extraction.text import CountVectorizer, TfidfVectorizer\n",
        "from sklearn.model_selection import StratifiedKFold\n",
        "from sklearn.linear_model import LogisticRegression\n",
        "from sklearn.metrics import precision_score, recall_score, accuracy_score, roc_auc_score\n",
        "from sklearn.model_selection import RandomizedSearchCV, GridSearchCV\n",
        "\n",
        "from keras.preprocessing.text import Tokenizer\n",
        "from keras.preprocessing.sequence import pad_sequences\n",
        "from keras.layers import Dense, Input, LSTM, Embedding, Dropout, Activation\n",
        "from keras.layers import Bidirectional, GlobalMaxPool1D\n",
        "from keras.models import Model\n",
        "from keras import initializers, regularizers, constraints, optimizers, layers\n",
        "from keras.optimizers import Adam\n",
        "from keras.callbacks import Callback\n",
        "\n",
        "################### Data Loading ###################\n",
        "#os.chdir('C:\\\\Users\\\\marke\\\\Downloads\\\\Toxic Classification')\n",
        "train = pd.read_csv('train.csv').fillna(' ')\n",
        "test = pd.read_csv('test.csv').fillna(' ')\n",
        "\n",
        "train_text = train[['id','comment_text']].drop_duplicates()\n",
        "df = pd.concat([train_text,test],ignore_index=True)\n",
        "\n",
        "################### Data Cleaning ####################\n",
        "nltk.download('stopwords')\n",
        "nltk.download('wordnet')\n",
        "nltk.download('averaged_perceptron_tagger')\n",
        "nltk.download('punkt')\n",
        "\n",
        "wpt = nltk.WordPunctTokenizer()\n",
        "stop_words = nltk.corpus.stopwords.words('english')\n",
        "cv = CountVectorizer(min_df=0., max_df=1.)\n",
        "stemmer = SnowballStemmer(\"english\")\n",
        "wnl = WordNetLemmatizer()\n",
        "\n",
        "\n",
        "# Simple way to get the number of occurence of a regex\n",
        "def count_regexp_occ(regexp=\"\", text=None):\n",
        "    return len(re.findall(regexp, text))\n",
        "\n",
        "# Determine if file words exist:\n",
        "#print(len(df[df['comment_text'].str.contains('jpg')]))\n",
        "#print(len(df[df['comment_text'].str.contains('jpeg')]))\n",
        "#print(len(df[df['comment_text'].str.contains('http')]))\n",
        "#print(len(df[df['comment_text'].str.contains('pdf')]))\n",
        "#print(len(df[df['comment_text'].str.contains('html')]))\n",
        "\n",
        "# Remove non-alphabetic characters and split tokens by spaces/newlines\n",
        "def clean_document(doc):\n",
        "    # 1) Convert string to lower\n",
        "    #doc = bytes(doc.lower(), encoding=\"utf-8\")\n",
        "    doc = doc.lower()\n",
        "    # 2) Replace contracion patterns\n",
        "    cont_patterns = [\n",
        "    (r'(W|w)on\\'t', r'will not'),\n",
        "    (r'(C|c)an\\'t', r'can not'),\n",
        "    (r'(I|i)\\'m', r'i am'),\n",
        "    (r'(A|a)in\\'t', r'is not'),\n",
        "    (r'(\\w+)\\'ll', r'\\g<1> will'),\n",
        "    (r'(\\w+)n\\'t', r'\\g<1> not'),\n",
        "    (r'(\\w+)\\'ve', r'\\g<1> have'),\n",
        "    (r'(\\w+)\\'s', r'\\g<1> is'),\n",
        "    (r'(\\w+)\\'re', r'\\g<1> are'),\n",
        "    (r'(\\w+)\\'d', r'\\g<1> would'),\n",
        "    ]\n",
        "    patterns = [(re.compile(regex), repl) for (regex, repl) in cont_patterns]\n",
        "    for (pattern, repl) in patterns:\n",
        "        doc = re.sub(pattern, repl, doc)\n",
        "    # 3) Remove special characters\\whitespaces\n",
        "    doc = re.sub(r'[^a-zA-Z\\s]+', '', doc)\n",
        "    #doc = doc.encode('utf-8')\n",
        "    #doc = str(doc,'utf-8').strip()\n",
        "    doc = doc.strip()\n",
        "    # tokenize document\n",
        "    tokens = wpt.tokenize(doc)\n",
        "    # filter stopwords out of document\n",
        "    filtered_tokens = [token for token in tokens if token not in stop_words]\n",
        "    # re-create document from filtered tokens\n",
        "    doc = ' '.join(filtered_tokens)\n",
        "    #doc = ' '.join(tokens)\n",
        "    return doc\n",
        "\n",
        "# POS tagging for lemmatizer\n",
        "def get_wordnet_pos(tag):\n",
        "        \"\"\"\n",
        "        return WORDNET POS compliance to WORDENT lemmatization (a,n,r,v) \n",
        "        \"\"\"\n",
        "        if tag.startswith('J'):\n",
        "            return wordnet.ADJ\n",
        "        elif tag.startswith('V'):\n",
        "            return wordnet.VERB\n",
        "        elif tag.startswith('N'):\n",
        "            return wordnet.NOUN\n",
        "        elif tag.startswith('R'):\n",
        "            return wordnet.ADV\n",
        "        else:\n",
        "            # As default pos in lemmatization is Noun\n",
        "            return wordnet.NOUN\n",
        "\n",
        "\n",
        "# Stem tokens (UNUSED):\n",
        "def stem_comment(comment):\n",
        "    return [stemmer.stem(word) for word in comment]\n",
        "        \n",
        "# Lemmaitze comments:\n",
        "# NOTE: POS_TAG was changed to V for all of them because it's the only one that works\n",
        "def lemmatize_comment(comment):\n",
        "        comment_list = comment.split()\n",
        "        pos = nltk.pos_tag(comment_list)\n",
        "        lemmatized = [wnl.lemmatize(word,'v') for (word,pos_t) in pos]\n",
        "        return lemmatized            \n",
        "                \n",
        "\n",
        "df['clean_comments'] = [clean_document(x) for x in df['comment_text']]\n",
        "df['clean_comments_list'] = df['clean_comments'].apply(lambda x: x.split())\n",
        "train['clean_comments'] = [clean_document(x) for x in train['comment_text']]\n",
        "train['clean_comments_list'] = train['clean_comments'].apply(lambda x: x.split())\n",
        "\n",
        "# train['clean_lemmed'] = [lemmatize_comment(x) for x in train['clean_comments']]\n",
        "# train['clean_lemmed'] = [x.drop_duplicates() for x in train['clean_lemmed']]\n",
        "\n",
        "class_names = ['toxic', 'severe_toxic', 'obscene', 'threat', 'insult', 'identity_hate']"
      ],
      "execution_count": 0,
      "outputs": [
        {
          "output_type": "stream",
          "text": [
            "Using TensorFlow backend.\n"
          ],
          "name": "stderr"
        },
        {
          "output_type": "display_data",
          "data": {
            "text/html": [
              "<p style=\"color: red;\">\n",
              "The default version of TensorFlow in Colab will soon switch to TensorFlow 2.x.<br>\n",
              "We recommend you <a href=\"https://www.tensorflow.org/guide/migrate\" target=\"_blank\">upgrade</a> now \n",
              "or ensure your notebook will continue to use TensorFlow 1.x via the <code>%tensorflow_version 1.x</code> magic:\n",
              "<a href=\"https://colab.research.google.com/notebooks/tensorflow_version.ipynb\" target=\"_blank\">more info</a>.</p>\n"
            ],
            "text/plain": [
              "<IPython.core.display.HTML object>"
            ]
          },
          "metadata": {
            "tags": []
          }
        },
        {
          "output_type": "stream",
          "text": [
            "[nltk_data] Downloading package stopwords to /root/nltk_data...\n",
            "[nltk_data]   Unzipping corpora/stopwords.zip.\n",
            "[nltk_data] Downloading package wordnet to /root/nltk_data...\n",
            "[nltk_data]   Unzipping corpora/wordnet.zip.\n",
            "[nltk_data] Downloading package averaged_perceptron_tagger to\n",
            "[nltk_data]     /root/nltk_data...\n",
            "[nltk_data]   Unzipping taggers/averaged_perceptron_tagger.zip.\n",
            "[nltk_data] Downloading package punkt to /root/nltk_data...\n",
            "[nltk_data]   Unzipping tokenizers/punkt.zip.\n"
          ],
          "name": "stdout"
        }
      ]
    },
    {
      "cell_type": "code",
      "metadata": {
        "id": "1sbOvZ2H_I4J",
        "colab_type": "code",
        "outputId": "e4595651-3da1-42ec-d109-7a7d732e09b2",
        "colab": {
          "base_uri": "https://localhost:8080/",
          "height": 88
        }
      },
      "source": [
        "## ========== Feature Engineering=====================\n",
        "\n",
        "# Set values for various parameters\n",
        "feature_size = 300    # Word vector dimensionality  \n",
        "window_context = 10          # Context window size                                                                                    \n",
        "min_word_count = 5   # Minimum word count                        \n",
        "sample = 1e-3   # Which higher-frequency words are randomly downsampled\n",
        "sg = 1          # sg {0,1} = 1 if skip-gram, 0 if CBOW,\n",
        "epochs = 50     # epochs = number of training epochs over corpus (default 5)\n",
        "\n",
        "tokenized_corpus = df['clean_comments_list']\n",
        "\n",
        "# Fit FastText model on pre-processed corpus\n",
        "start_time = time.time()\n",
        "ft_model = FastText(tokenized_corpus, size=feature_size, window=window_context, \n",
        "                    min_count=min_word_count,sample=sample, sg=sg, iter=epochs)\n",
        "print(\"--- %s minutes ---\" % ((time.time() - start_time)/60))\n",
        "w2v = {w: vec for w, vec in zip(ft_model.wv.index2word, ft_model.wv.syn0)}\n",
        "\n",
        "word2vec = ft_model\n",
        "X = train['clean_comments_list']\n"
      ],
      "execution_count": 0,
      "outputs": [
        {
          "output_type": "stream",
          "text": [
            "--- 171.15346155961353 minutes ---\n"
          ],
          "name": "stdout"
        },
        {
          "output_type": "stream",
          "text": [
            "/usr/local/lib/python3.6/dist-packages/ipykernel_launcher.py:15: DeprecationWarning: Call to deprecated `syn0` (Attribute will be removed in 4.0.0, use self.wv.vectors instead).\n",
            "  from ipykernel import kernelapp as app\n"
          ],
          "name": "stderr"
        }
      ]
    },
    {
      "cell_type": "code",
      "metadata": {
        "id": "w0tDY0cGLCzp",
        "colab_type": "code",
        "outputId": "ede07c99-62e3-4daa-a3ee-1fa376de246a",
        "colab": {
          "base_uri": "https://localhost:8080/",
          "height": 71
        }
      },
      "source": [
        "## Save FastText Model\n",
        "#with tempfile.NamedTemporaryFile(prefix='saved_model_gensim-', delete=False) as tmp:\n",
        "#    model.save(tmp.name, separately=[])\n",
        "#loaded_model = FT_gensim.load(tmp.name)\n",
        "#print(loaded_model)\n",
        "\n",
        "from gensim.test.utils import get_tmpfile\n",
        "fname = get_tmpfile(\"fasttext.model\")\n",
        "ft_model.save(fname)\n",
        "#model = FastText.load(fname)"
      ],
      "execution_count": 0,
      "outputs": [
        {
          "output_type": "stream",
          "text": [
            "/usr/local/lib/python3.6/dist-packages/smart_open/smart_open_lib.py:402: UserWarning: This function is deprecated, use smart_open.open instead. See the migration notes for details: https://github.com/RaRe-Technologies/smart_open/blob/master/README.rst#migrating-to-the-new-open-function\n",
            "  'See the migration notes for details: %s' % _MIGRATION_NOTES_URL\n"
          ],
          "name": "stderr"
        }
      ]
    },
    {
      "cell_type": "code",
      "metadata": {
        "id": "uhkFVzXtrYA1",
        "colab_type": "code",
        "colab": {}
      },
      "source": [
        "def tf2vec_fit(X):\n",
        "    #tfidf = TfidfVectorizer(sublinear_tf=True,strip_accents='unicode',analyzer=lambda x: x)\n",
        "    tfidf = TfidfVectorizer(\n",
        "      sublinear_tf=True,\n",
        "      strip_accents='unicode',\n",
        "      analyzer='word',\n",
        "      token_pattern=r'\\w{1,}',\n",
        "      stop_words='english',\n",
        "      ngram_range=(1, 2),\n",
        "      max_features=20000)\n",
        "    tfidf.fit(X)\n",
        "    # if a word was never seen - it must be at least as infrequent\n",
        "    # as any of the known words - so the default idf is the max of \n",
        "    # known idf's\n",
        "    max_idf = max(tfidf.idf_)\n",
        "    word2weight = defaultdict(\n",
        "        lambda: max_idf, \n",
        "        [(w, tfidf.idf_[i]) for w, i in tfidf.vocabulary_.items()])\n",
        "\n",
        "    return word2weight\n",
        "\n",
        "def transform(X,word2weight):\n",
        "        return np.array([\n",
        "                np.mean([word2vec[w] * word2weight[w]\n",
        "                         for w in words if w in word2vec] or\n",
        "                        [np.zeros(feature_size)], axis=0)\n",
        "                for words in X\n",
        "            ])\n",
        "\n",
        "def tf2vec_transform(X, word2weight):\n",
        "    return sparse.csr_matrix([\n",
        "                np.mean([word2vec[w] * word2weight[w]\n",
        "                         for w in words if w in word2vec] or \n",
        "                        [np.zeros(feature_size)], axis=0)\n",
        "            for words in X])\n",
        "\n",
        "def test_transform(X, word2weight):\n",
        "    result = []\n",
        "    bums = []\n",
        "    count = []\n",
        "    cnt = 0\n",
        "    for words in X:\n",
        "      lst = []\n",
        "      for w in words:\n",
        "         if w in word2vec:\n",
        "          lst.append(word2vec[w] * word2weight[w])\n",
        "      if lst == []:\n",
        "        lst = [np.zeros(w2v_dim)]\n",
        "      mean = np.mean(lst, axis=0)\n",
        "      if str(mean.shape) != '(300,)':\n",
        "        bums.append(mean)\n",
        "        count.append(cnt)\n",
        "      result.append(sparse.csr_matrix(mean))\n",
        "      cnt += 1\n",
        "    return [count, bums, np.array(result)]\n",
        "\n",
        "#count, bums, tf2vec_features = test_transform(X,tf2vec_fit(X))"
      ],
      "execution_count": 0,
      "outputs": []
    },
    {
      "cell_type": "code",
      "metadata": {
        "id": "pbnFgtA2Ud7p",
        "colab_type": "code",
        "colab": {}
      },
      "source": [
        "tf2vec_features = transform(X,tf2vec_fit(X))\n",
        "train_features = sparse.csr_matrix(tf2vec_features)\n",
        "#np.savetxt(\"train_features.csv\", tf2vec_features, delimiter=\",\")\n",
        "#tf2vec_features = np.loadtxt(open(\"train_features.csv\", \"rb\"), delimiter=\",\")\n",
        "#tf2vec_features.tofile(\"tf2vec_features.txt\", sep=\"\", format=\"%s\") \n",
        "#np.fromfile(\"tf2vec_features.txt\", dtype=float, count=-1, sep='')"
      ],
      "execution_count": 0,
      "outputs": []
    },
    {
      "cell_type": "code",
      "metadata": {
        "id": "twi64H2SJoqX",
        "colab_type": "code",
        "colab": {}
      },
      "source": [
        "## Shift Word Embedding Vectors for NB equation\n",
        "print(train_features.shape)\n",
        "min_val = np.min(train_features.data)\n",
        "shift_val = round((min_val * -1) + 1,0)"
      ],
      "execution_count": 0,
      "outputs": []
    },
    {
      "cell_type": "code",
      "metadata": {
        "id": "BKMtS4yFgXRb",
        "colab_type": "code",
        "colab": {}
      },
      "source": [
        "def shift_elements(mat):\n",
        "    x = mat.copy()\n",
        "    cx = x.tocoo()    \n",
        "    for i,j,v in zip(cx.row, cx.col, cx.data):\n",
        "        x[i,j] = v + shift_val\n",
        "    return x\n",
        "\n",
        "shifted_csr = shift_elements(train_features)"
      ],
      "execution_count": 0,
      "outputs": []
    },
    {
      "cell_type": "code",
      "metadata": {
        "id": "YFjYEsz55zD8",
        "colab_type": "code",
        "colab": {}
      },
      "source": [
        "################### TF-IDF Feature Engineering ###################\n",
        "\n",
        "# TF-IDF Vectorizer\n",
        "train_text = train['clean_comments']\n",
        "\n",
        "word_vectorizer = TfidfVectorizer(\n",
        "    sublinear_tf=True,\n",
        "    strip_accents='unicode',\n",
        "    analyzer='word',\n",
        "    token_pattern=r'\\w{1,}',\n",
        "    stop_words='english',\n",
        "    ngram_range=(1, 2),\n",
        "    max_features=20000)\n",
        "word_vectorizer.fit(train_text)\n",
        "train_word_features = word_vectorizer.transform(train_text)\n",
        "\n",
        "char_vectorizer = TfidfVectorizer(\n",
        "    sublinear_tf=True,\n",
        "    strip_accents='unicode',\n",
        "    analyzer='char',\n",
        "    stop_words='english',\n",
        "    ngram_range=(2, 6),\n",
        "    max_features=20000)\n",
        "char_vectorizer.fit(train_text)\n",
        "train_char_features = char_vectorizer.transform(train_text)\n",
        "\n",
        "train_tfidf_features = hstack([train_char_features, train_word_features]).tocsr()\n",
        "\n",
        "# Create features about type of text and category of text\n",
        "def add_features(df):\n",
        "    # Get length in words and characters\n",
        "    df[\"word_len\"] = df[\"comment_text\"].apply(lambda x: len(x.split()))\n",
        "    df[\"char_len\"] = df[\"comment_text\"].apply(lambda x: len(x))\n",
        "    # Create count variables to see if any are useful\n",
        "    df[\"nb_upper\"] = df[\"comment_text\"].apply(lambda x: count_regexp_occ(r\"[A-Z]\", x))\n",
        "    df[\"nb_number\"] = df[\"comment_text\"].apply(lambda x: count_regexp_occ(r\"[0-9]\", x))\n",
        "    df[\"nb_!\"] = df[\"comment_text\"].apply(lambda x: count_regexp_occ(r\"!\", x))\n",
        "    df[\"nb_?\"] = df[\"comment_text\"].apply(lambda x: count_regexp_occ(r\"\\?\", x))\n",
        "    df[\"nb_fuck\"] = df[\"comment_text\"].apply(lambda x: count_regexp_occ(r\"[Ff][uU][cC][Kk]\", x))\n",
        "    df[\"nb_suck\"] = df[\"comment_text\"].apply(lambda x: count_regexp_occ(r\"[Ss]\\S{2}[Kk]\", x))\n",
        "    df[\"nb_dick\"] = df[\"comment_text\"].apply(lambda x: count_regexp_occ(r\"[dD]ick\", x))\n",
        "    df[\"nb_cock\"] = df[\"comment_text\"].apply(lambda x: count_regexp_occ(r\"[cC]ock\", x))\n",
        "    df[\"nb_gay\"] = df[\"comment_text\"].apply(lambda x: count_regexp_occ(r\"[gG][aA][yY]\", x))\n",
        "    df[\"nb_bitch\"] = df[\"comment_text\"].apply(lambda x: count_regexp_occ(r\"[bB][iI][tT][cC][hH]\", x))\n",
        "    # Number of occurence of You, insulting someone usually needs someone called : you\n",
        "    df[\"nb_you\"] = df[\"comment_text\"].apply(lambda x: count_regexp_occ(r\"\\W[Yy]ou\\W\", x))\n",
        "    # Just to check you really refered to my mother ;-)\n",
        "    df[\"nb_mother\"] = df[\"comment_text\"].apply(lambda x: count_regexp_occ(r\"\\Wmother\\W\", x))\n",
        "    # Just checking for toxic 19th century vocabulary\n",
        "    df[\"nb_ng\"] = df[\"comment_text\"].apply(lambda x: count_regexp_occ(r\"\\Wnigger\\W\", x))\n",
        "    df[\"nb_ng_2\"] = df[\"comment_text\"].apply(lambda x: count_regexp_occ(r\"\\Wnigga\\W\", x))\n",
        "    # Add\n",
        "    \n",
        "add_features(train)"
      ],
      "execution_count": 0,
      "outputs": []
    },
    {
      "cell_type": "code",
      "metadata": {
        "id": "XcgTW4ZuvSI5",
        "colab_type": "code",
        "colab": {}
      },
      "source": [
        "class_names = ['toxic', 'severe_toxic', 'obscene', 'threat', 'insult', 'identity_hate']\n",
        "seed = 1234\n",
        "folds = StratifiedKFold(n_splits=5, shuffle=True, random_state=seed)\n",
        "preds = {}"
      ],
      "execution_count": 0,
      "outputs": []
    },
    {
      "cell_type": "code",
      "metadata": {
        "id": "F8BxH-8aaHxo",
        "colab_type": "code",
        "colab": {}
      },
      "source": [
        "# Set LGBM parameters\n",
        "params = {\n",
        "    \"objective\": \"binary\",\n",
        "    'metric': {'auc'},\n",
        "    \"boosting_type\": \"gbdt\",\n",
        "    \"verbosity\": -1,\n",
        "    \"num_threads\": 2,\n",
        "    \"bagging_fraction\": 0.8,\n",
        "    \"feature_fraction\": 0.8,\n",
        "    \"learning_rate\": 0.1,\n",
        "    \"num_leaves\": 31,\n",
        "    \"verbose\": -1\n",
        "    #\"min_split_gain\": .1,\n",
        "    #\"reg_alpha\": .1\n",
        "}"
      ],
      "execution_count": 0,
      "outputs": []
    },
    {
      "cell_type": "code",
      "metadata": {
        "id": "p3tTu71X3gUp",
        "colab_type": "code",
        "outputId": "23915dca-50a7-4da2-b08f-a2105a8cac3e",
        "colab": {
          "base_uri": "https://localhost:8080/",
          "height": 119
        }
      },
      "source": [
        "##### Fit LGB Model #####\n",
        "import warnings\n",
        "warnings.filterwarnings(\"ignore\")\n",
        "\n",
        "from sklearn.model_selection import RandomizedSearchCV, GridSearchCV\n",
        "\n",
        "trn_lgbset = lgb.Dataset(train_features, free_raw_data=False)\n",
        "lgb_rounds = 500\n",
        "for i, j in enumerate(class_names):\n",
        "    training_labels = train[j]\n",
        "    trn_lgbset.set_label(training_labels.values)\n",
        "    scores = []\n",
        "    for n_fold, (trn_idx, val_idx) in enumerate(folds.split(train_features, training_labels)):\n",
        "      # Train lgb l1\n",
        "      model = lgb.train(params=params,train_set=trn_lgbset.subset(trn_idx),\n",
        "          num_boost_round=lgb_rounds, valid_sets=[trn_lgbset.subset(val_idx)],\n",
        "          early_stopping_rounds=100,\n",
        "          verbose_eval=0)\n",
        "      preds[j] = model.predict(trn_lgbset.data[val_idx], num_iteration=model.best_iteration)\n",
        "      scores.append(roc_auc_score(training_labels.values[val_idx], preds[j]))\n",
        "    print('fit: ' + j + ' | score: ' + str(round(np.mean(scores),3)))\n",
        "\n",
        "    # Grid Search for C and Gamma parameters\n",
        "    \"\"\"\n",
        "    grid_list = {\"learning_rate\": [1e-4,1e-3,1e-2,1e-1,1],\"num_leaves\": [10,20,30,40,50]}\n",
        "    clf = lgb.LGBMClassifier(objective='binary',\n",
        "                             num_boost_round=lgb_rounds,\n",
        "                             boosting_type=\"gbdt\",\n",
        "                             num_leaves=31,\n",
        "                             learning_rate=0.1,\n",
        "                             random_state=seed,\n",
        "                             n_jobs=-1).fit(train_features,training_labels)\n",
        "    grid_search = GridSearchCV(clf, param_grid = grid_list, n_jobs = -1, cv = 5, scoring = \"roc_auc\")\n",
        "    grid_search.fit(train_features,training_labels)\n",
        "    print('Grid Search - Best Score: ' + str(grid_search.best_score_))\n",
        "    print('Grid Search - Best Parameters: ' + str(grid_search.best_params_))\n",
        "    \"\"\"\n"
      ],
      "execution_count": 0,
      "outputs": [
        {
          "output_type": "stream",
          "text": [
            "fit: toxic | score: 0.963\n",
            "fit: severe_toxic | score: 0.985\n",
            "fit: obscene | score: 0.979\n",
            "fit: threat | score: 0.928\n",
            "fit: insult | score: 0.972\n",
            "fit: identity_hate | score: 0.976\n"
          ],
          "name": "stdout"
        }
      ]
    },
    {
      "cell_type": "code",
      "metadata": {
        "id": "cgqNA7dx3VwH",
        "colab_type": "code",
        "colab": {}
      },
      "source": [
        "from sklearn.base import BaseEstimator, ClassifierMixin\n",
        "from sklearn.utils.validation import check_X_y, check_is_fitted\n",
        "from sklearn.linear_model import LogisticRegression\n",
        "from scipy import sparse\n",
        "class NbSvmClassifier(BaseEstimator, ClassifierMixin):\n",
        "    def __init__(self, C=1.0, dual=False, n_jobs=1, multi_class='auto'):\n",
        "        self.C = C\n",
        "        self.dual = dual\n",
        "        self.n_jobs = n_jobs\n",
        "        self.multi_class = multi_class\n",
        "\n",
        "    def predict(self, x):\n",
        "        # Verify that model has been fit\n",
        "        #check_is_fitted(self, ['_r', '_clf'])\n",
        "        return self._clf.predict(x.multiply(self._r))\n",
        "\n",
        "    def predict_proba(self, x):\n",
        "        # Verify that model has been fit\n",
        "        #check_is_fitted(self, ['_r', '_clf'])\n",
        "        return self._clf.predict_proba(x.multiply(self._r))\n",
        "\n",
        "    def fit(self, x, y):\n",
        "        # Check that X and y have correct shape\n",
        "        y = y.values\n",
        "        x, y = check_X_y(x, y, accept_sparse=True)\n",
        "\n",
        "        def pr(x, y_i, y):\n",
        "            p = x[y==y_i].sum(0)\n",
        "            return (p+1) / ((y==y_i).sum()+1)\n",
        "\n",
        "        self._r = sparse.csr_matrix(np.log(pr(x,1,y) / pr(x,0,y)))\n",
        "        x_nb = x.multiply(self._r)\n",
        "        self._clf = LogisticRegression(C=self.C, dual=self.dual, n_jobs=self.n_jobs).fit(x_nb, y)\n",
        "        return self"
      ],
      "execution_count": 0,
      "outputs": []
    },
    {
      "cell_type": "code",
      "metadata": {
        "id": "kFrNLkU1Zbaq",
        "colab_type": "code",
        "outputId": "10a0dec3-9ff9-4cdf-8846-12a63baa6d8f",
        "colab": {
          "base_uri": "https://localhost:8080/",
          "height": 34
        }
      },
      "source": [
        "type(train_features)"
      ],
      "execution_count": 0,
      "outputs": [
        {
          "output_type": "execute_result",
          "data": {
            "text/plain": [
              "scipy.sparse.csr.csr_matrix"
            ]
          },
          "metadata": {
            "tags": []
          },
          "execution_count": 53
        }
      ]
    },
    {
      "cell_type": "code",
      "metadata": {
        "id": "0bQtK05Gf8D6",
        "colab_type": "code",
        "colab": {}
      },
      "source": [
        "##### Fit NB_SVM Model #####\n",
        "#train_features = train_word_features\n",
        "for i, j in enumerate(class_names):\n",
        "    training_labels = train[j]\n",
        "    scores = []\n",
        "    for n_fold, (trn_idx, val_idx) in enumerate(folds.split(train_features, training_labels)):\n",
        "      model = NbSvmClassifier(C=4, dual=False, n_jobs=-1, multi_class='ovr').fit(train_features[trn_idx], training_labels[trn_idx])\n",
        "      preds[j] = model.predict(train_features[val_idx].multiply(model._r))\n",
        "      scores.append(roc_auc_score(training_labels[val_idx], preds[j]))\n",
        "    print('fit: ' + j + ' | score: ' + str(round(np.mean(scores),3)))\n"
      ],
      "execution_count": 0,
      "outputs": []
    },
    {
      "cell_type": "code",
      "metadata": {
        "id": "fCN4qPVtZfPw",
        "colab_type": "code",
        "colab": {}
      },
      "source": [
        "ft_model.wv.most_similar(['weird'], topn=20)"
      ],
      "execution_count": 0,
      "outputs": []
    },
    {
      "cell_type": "code",
      "metadata": {
        "id": "w2s6TmVSh5in",
        "colab_type": "code",
        "outputId": "68f0a715-f58c-4dde-d3dc-24a57ca6632f",
        "colab": {
          "base_uri": "https://localhost:8080/",
          "height": 321
        }
      },
      "source": [
        "## Pick up where left off\n",
        "\n",
        "##\n",
        "## =======================================================\n",
        "## Mark Erenberg \n",
        "## Toxic Comment Classification Challenge\n",
        "## =======================================================\n",
        "##\n",
        "\n",
        "# Objective: Create a model which predicts a probability of each type of toxicity for each comment.\n",
        "\n",
        "# import dependencies and files\n",
        "\n",
        "import os\n",
        "import time\n",
        "import pandas as pd\n",
        "import numpy as np\n",
        "from scipy import sparse\n",
        "from scipy.sparse import hstack\n",
        "import itertools\n",
        "import matplotlib.pyplot as plt\n",
        "import re\n",
        "import tempfile\n",
        "\n",
        "import lightgbm as lgb\n",
        "\n",
        "import nltk\n",
        "from nltk.stem.snowball import SnowballStemmer\n",
        "from nltk.stem import WordNetLemmatizer\n",
        "from nltk.corpus import wordnet\n",
        "from nltk import pos_tag, word_tokenize\n",
        "\n",
        "import gensim\n",
        "import gensim.models.keyedvectors as word2vec\n",
        "from gensim.models.fasttext import FastText\n",
        "\n",
        "import spacy\n",
        "import en_core_web_sm\n",
        "#spacy_nlp = en_core_web_sm.load()\n",
        "#spacy_nlp = spacy.load('en_core_web_sm')\n",
        "\n",
        "from collections import Counter, defaultdict\n",
        "\n",
        "from sklearn import utils\n",
        "from sklearn.feature_extraction.text import CountVectorizer, TfidfVectorizer\n",
        "from sklearn.model_selection import StratifiedKFold\n",
        "from sklearn.linear_model import LogisticRegression\n",
        "from sklearn.metrics import precision_score, recall_score, accuracy_score, roc_auc_score\n",
        "from sklearn.model_selection import RandomizedSearchCV, GridSearchCV\n",
        "\n",
        "from keras.preprocessing.text import Tokenizer\n",
        "from keras.preprocessing.sequence import pad_sequences\n",
        "from keras.layers import Dense, Input, LSTM, Embedding, Dropout, Activation\n",
        "from keras.layers import Bidirectional, GlobalMaxPool1D\n",
        "from keras.models import Model\n",
        "from keras import initializers, regularizers, constraints, optimizers, layers\n",
        "from keras.optimizers import Adam\n",
        "from keras.callbacks import Callback\n",
        "\n",
        "################### Data Loading ###################\n",
        "#os.chdir('C:\\\\Users\\\\marke\\\\Downloads\\\\Toxic Classification')\n",
        "train = pd.read_csv('train.csv').fillna(' ')\n",
        "test = pd.read_csv('test.csv').fillna(' ')\n",
        "\n",
        "train_text = train[['id','comment_text']].drop_duplicates()\n",
        "df = pd.concat([train_text,test],ignore_index=True)\n",
        "\n",
        "################### Data Cleaning ####################\n",
        "nltk.download('stopwords')\n",
        "nltk.download('wordnet')\n",
        "nltk.download('averaged_perceptron_tagger')\n",
        "nltk.download('punkt')\n",
        "\n",
        "wpt = nltk.WordPunctTokenizer()\n",
        "stop_words = nltk.corpus.stopwords.words('english')\n",
        "cv = CountVectorizer(min_df=0., max_df=1.)\n",
        "stemmer = SnowballStemmer(\"english\")\n",
        "wnl = WordNetLemmatizer()\n",
        "\n",
        "\n",
        "# Simple way to get the number of occurence of a regex\n",
        "def count_regexp_occ(regexp=\"\", text=None):\n",
        "    return len(re.findall(regexp, text))\n",
        "\n",
        "# Determine if file words exist:\n",
        "#print(len(df[df['comment_text'].str.contains('jpg')]))\n",
        "#print(len(df[df['comment_text'].str.contains('jpeg')]))\n",
        "#print(len(df[df['comment_text'].str.contains('http')]))\n",
        "#print(len(df[df['comment_text'].str.contains('pdf')]))\n",
        "#print(len(df[df['comment_text'].str.contains('html')]))\n",
        "\n",
        "# Remove non-alphabetic characters and split tokens by spaces/newlines\n",
        "def clean_document(doc):\n",
        "    # 1) Convert string to lower\n",
        "    #doc = bytes(doc.lower(), encoding=\"utf-8\")\n",
        "    doc = doc.lower()\n",
        "    # 2) Replace contracion patterns\n",
        "    cont_patterns = [\n",
        "    (r'(W|w)on\\'t', r'will not'),\n",
        "    (r'(C|c)an\\'t', r'can not'),\n",
        "    (r'(I|i)\\'m', r'i am'),\n",
        "    (r'(A|a)in\\'t', r'is not'),\n",
        "    (r'(\\w+)\\'ll', r'\\g<1> will'),\n",
        "    (r'(\\w+)n\\'t', r'\\g<1> not'),\n",
        "    (r'(\\w+)\\'ve', r'\\g<1> have'),\n",
        "    (r'(\\w+)\\'s', r'\\g<1> is'),\n",
        "    (r'(\\w+)\\'re', r'\\g<1> are'),\n",
        "    (r'(\\w+)\\'d', r'\\g<1> would'),\n",
        "    ]\n",
        "    patterns = [(re.compile(regex), repl) for (regex, repl) in cont_patterns]\n",
        "    for (pattern, repl) in patterns:\n",
        "        doc = re.sub(pattern, repl, doc)\n",
        "    # 3) Remove special characters\\whitespaces\n",
        "    doc = re.sub(r'[^a-zA-Z\\s]+', '', doc)\n",
        "    #doc = doc.encode('utf-8')\n",
        "    #doc = str(doc,'utf-8').strip()\n",
        "    doc = doc.strip()\n",
        "    # tokenize document\n",
        "    tokens = wpt.tokenize(doc)\n",
        "    # filter stopwords out of document\n",
        "    filtered_tokens = [token for token in tokens if token not in stop_words]\n",
        "    # re-create document from filtered tokens\n",
        "    doc = ' '.join(filtered_tokens)\n",
        "    #doc = ' '.join(tokens)\n",
        "    return doc\n",
        "\n",
        "# POS tagging for lemmatizer\n",
        "def get_wordnet_pos(tag):\n",
        "        \"\"\"\n",
        "        return WORDNET POS compliance to WORDENT lemmatization (a,n,r,v) \n",
        "        \"\"\"\n",
        "        if tag.startswith('J'):\n",
        "            return wordnet.ADJ\n",
        "        elif tag.startswith('V'):\n",
        "            return wordnet.VERB\n",
        "        elif tag.startswith('N'):\n",
        "            return wordnet.NOUN\n",
        "        elif tag.startswith('R'):\n",
        "            return wordnet.ADV\n",
        "        else:\n",
        "            # As default pos in lemmatization is Noun\n",
        "            return wordnet.NOUN\n",
        "\n",
        "\n",
        "# Stem tokens (UNUSED):\n",
        "def stem_comment(comment):\n",
        "    return [stemmer.stem(word) for word in comment]\n",
        "        \n",
        "# Lemmaitze comments:\n",
        "# NOTE: POS_TAG was changed to V for all of them because it's the only one that works\n",
        "def lemmatize_comment(comment):\n",
        "        comment_list = comment.split()\n",
        "        pos = nltk.pos_tag(comment_list)\n",
        "        lemmatized = [wnl.lemmatize(word,'v') for (word,pos_t) in pos]\n",
        "        return lemmatized            \n",
        "                \n",
        "\n",
        "df['clean_comments'] = [clean_document(x) for x in df['comment_text']]\n",
        "df['clean_comments_list'] = df['clean_comments'].apply(lambda x: x.split())\n",
        "train['clean_comments'] = [clean_document(x) for x in train['comment_text']]\n",
        "train['clean_comments_list'] = train['clean_comments'].apply(lambda x: x.split())\n",
        "\n",
        "# train['clean_lemmed'] = [lemmatize_comment(x) for x in train['clean_comments']]\n",
        "# train['clean_lemmed'] = [x.drop_duplicates() for x in train['clean_lemmed']]\n",
        "\n",
        "class_names = ['toxic', 'severe_toxic', 'obscene', 'threat', 'insult', 'identity_hate']\n",
        "\n",
        "## ========== Feature Engineering=====================\n",
        "\n",
        "# Set values for various parameters\n",
        "feature_size = 300    # Word vector dimensionality  \n",
        "window_context = 10          # Context window size                                                                                    \n",
        "min_word_count = 5   # Minimum word count                        \n",
        "sample = 1e-3   # Which higher-frequency words are randomly downsampled\n",
        "sg = 1          # sg {0,1} = 1 if skip-gram, 0 if CBOW,\n",
        "epochs = 50     # epochs = number of training epochs over corpus (default 5)\n",
        "\n",
        "tokenized_corpus = df['clean_comments_list']\n",
        "\n",
        "# Fit FastText model on pre-processed corpus\n",
        "start_time = time.time()\n",
        "#ft_model = FastText(tokenized_corpus, size=feature_size, window=window_context, \n",
        "#                    min_count=min_word_count,sample=sample, sg=sg, iter=epochs)\n",
        "model = Word2Vec(tokenized_corpus, size=feature_size, window=window_context, \n",
        "                 min_count=min_word_count, sample=sample, sg=sg, iter=epochs)\n",
        "print(\"--- %s minutes ---\" % ((time.time() - start_time)/60))\n",
        "w2v = {w: vec for w, vec in zip(ft_model.wv.index2word, ft_model.wv.syn0)}\n",
        "\n",
        "word2vec = model\n",
        "X = train['clean_comments']\n",
        "\n",
        "def tf2vec_fit(X):\n",
        "    #tfidf = TfidfVectorizer(sublinear_tf=True,strip_accents='unicode',analyzer=lambda x: x)\n",
        "    tfidf = TfidfVectorizer(\n",
        "      sublinear_tf=True,\n",
        "      strip_accents='unicode',\n",
        "      analyzer='word',\n",
        "      token_pattern=r'\\w{1,}',\n",
        "      stop_words='english',\n",
        "      ngram_range=(1, 2),\n",
        "      max_features=20000)\n",
        "    tfidf.fit(X)\n",
        "    # if a word was never seen - it must be at least as infrequent\n",
        "    # as any of the known words - so the default idf is the max of \n",
        "    # known idf's\n",
        "    max_idf = max(tfidf.idf_)\n",
        "    word2weight = defaultdict(\n",
        "        lambda: max_idf, \n",
        "        [(w, tfidf.idf_[i]) for w, i in tfidf.vocabulary_.items()])\n",
        "\n",
        "    return word2weight\n",
        "\n",
        "def transform(X,word2weight):\n",
        "        return np.array([\n",
        "                np.mean([word2vec[w] * word2weight[w]\n",
        "                         for w in words if w in word2vec] or\n",
        "                        [np.zeros(feature_size)], axis=0)\n",
        "                for words in X\n",
        "            ])\n",
        "\n",
        "def tf2vec_transform(X, word2weight):\n",
        "    return sparse.csr_matrix([\n",
        "                np.mean([word2vec[w] * word2weight[w]\n",
        "                         for w in words if w in word2vec] or \n",
        "                        [np.zeros(feature_size)], axis=0)\n",
        "            for words in X])\n",
        "    \n",
        "tf2vec_features = transform(X,tf2vec_fit(X))\n",
        "train_features = sparse.csr_matrix(tf2vec_features)\n",
        "\n",
        "## Shift Word Embedding Vectors for NB equation\n",
        "#print(train_features.shape)\n",
        "min_val = np.min(train_features.data)\n",
        "shift_val = round((min_val * -1) + 1,0)\n",
        "\n",
        "def shift_elements(mat):\n",
        "    x = mat.copy()\n",
        "    cx = x.tocoo()    \n",
        "    for i,j,v in zip(cx.row, cx.col, cx.data):\n",
        "        x[i,j] = v + shift_val\n",
        "    return x\n",
        "\n",
        "shifted_csr = shift_elements(train_features)\n",
        "\n",
        "class_names = ['toxic', 'severe_toxic', 'obscene', 'threat', 'insult', 'identity_hate']\n",
        "seed = 1234\n",
        "folds = StratifiedKFold(n_splits=5, shuffle=True, random_state=seed)\n",
        "preds = {}\n",
        "\n",
        "# Set LGBM parameters\n",
        "params = {\n",
        "    \"objective\": \"binary\",\n",
        "    'metric': {'auc'},\n",
        "    \"boosting_type\": \"gbdt\",\n",
        "    \"verbosity\": -1,\n",
        "    \"num_threads\": 2,\n",
        "    \"bagging_fraction\": 0.8,\n",
        "    \"feature_fraction\": 0.8,\n",
        "    \"learning_rate\": 0.1,\n",
        "    \"num_leaves\": 31,\n",
        "    \"verbose\": -1\n",
        "    #\"min_split_gain\": .1,\n",
        "    #\"reg_alpha\": .1\n",
        "}\n"
      ],
      "execution_count": 1,
      "outputs": [
        {
          "output_type": "stream",
          "text": [
            "Using TensorFlow backend.\n"
          ],
          "name": "stderr"
        },
        {
          "output_type": "display_data",
          "data": {
            "text/html": [
              "<p style=\"color: red;\">\n",
              "The default version of TensorFlow in Colab will soon switch to TensorFlow 2.x.<br>\n",
              "We recommend you <a href=\"https://www.tensorflow.org/guide/migrate\" target=\"_blank\">upgrade</a> now \n",
              "or ensure your notebook will continue to use TensorFlow 1.x via the <code>%tensorflow_version 1.x</code> magic:\n",
              "<a href=\"https://colab.research.google.com/notebooks/tensorflow_version.ipynb\" target=\"_blank\">more info</a>.</p>\n"
            ],
            "text/plain": [
              "<IPython.core.display.HTML object>"
            ]
          },
          "metadata": {
            "tags": []
          }
        },
        {
          "output_type": "stream",
          "text": [
            "[nltk_data] Downloading package stopwords to /root/nltk_data...\n",
            "[nltk_data]   Unzipping corpora/stopwords.zip.\n",
            "[nltk_data] Downloading package wordnet to /root/nltk_data...\n",
            "[nltk_data]   Unzipping corpora/wordnet.zip.\n",
            "[nltk_data] Downloading package averaged_perceptron_tagger to\n",
            "[nltk_data]     /root/nltk_data...\n",
            "[nltk_data]   Unzipping taggers/averaged_perceptron_tagger.zip.\n",
            "[nltk_data] Downloading package punkt to /root/nltk_data...\n",
            "[nltk_data]   Unzipping tokenizers/punkt.zip.\n",
            "--- 277.1076672991117 minutes ---\n"
          ],
          "name": "stdout"
        },
        {
          "output_type": "stream",
          "text": [
            "/usr/local/lib/python3.6/dist-packages/ipykernel_launcher.py:174: DeprecationWarning: Call to deprecated `syn0` (Attribute will be removed in 4.0.0, use self.wv.vectors instead).\n",
            "/usr/local/lib/python3.6/dist-packages/ipykernel_launcher.py:203: DeprecationWarning: Call to deprecated `__contains__` (Method will be removed in 4.0.0, use self.wv.__contains__() instead).\n",
            "/usr/local/lib/python3.6/dist-packages/ipykernel_launcher.py:203: DeprecationWarning: Call to deprecated `__getitem__` (Method will be removed in 4.0.0, use self.wv.__getitem__() instead).\n"
          ],
          "name": "stderr"
        }
      ]
    },
    {
      "cell_type": "code",
      "metadata": {
        "id": "JQO-yvrRaUoF",
        "colab_type": "code",
        "outputId": "6ff6ccb6-4d0e-435f-b59f-d538805c43e3",
        "colab": {
          "base_uri": "https://localhost:8080/",
          "height": 119
        }
      },
      "source": [
        "##### Fit LGB Model #####\n",
        "import warnings\n",
        "warnings.filterwarnings(\"ignore\")\n",
        "\n",
        "trn_lgbset = lgb.Dataset(train_features, free_raw_data=False)\n",
        "lgb_rounds = 500\n",
        "for i, j in enumerate(class_names):\n",
        "    training_labels = train[j]\n",
        "    trn_lgbset.set_label(training_labels.values)\n",
        "    scores = []\n",
        "    for n_fold, (trn_idx, val_idx) in enumerate(folds.split(train_features, training_labels)):\n",
        "      # Train lgb l1\n",
        "      model = lgb.train(params=params,train_set=trn_lgbset.subset(trn_idx),\n",
        "          num_boost_round=lgb_rounds, valid_sets=[trn_lgbset.subset(val_idx)],\n",
        "          early_stopping_rounds=100,\n",
        "          verbose_eval=0)\n",
        "      preds[j] = model.predict(trn_lgbset.data[val_idx], num_iteration=model.best_iteration)\n",
        "      scores.append(roc_auc_score(training_labels.values[val_idx], preds[j]))\n",
        "    print('fit: ' + j + ' | score: ' + str(round(np.mean(scores),3)))\n"
      ],
      "execution_count": 2,
      "outputs": [
        {
          "output_type": "stream",
          "text": [
            "fit: toxic | score: 0.775\n",
            "fit: severe_toxic | score: 0.918\n",
            "fit: obscene | score: 0.842\n",
            "fit: threat | score: 0.742\n",
            "fit: insult | score: 0.816\n",
            "fit: identity_hate | score: 0.807\n"
          ],
          "name": "stdout"
        }
      ]
    },
    {
      "cell_type": "code",
      "metadata": {
        "id": "qWOCNn3XhF0e",
        "colab_type": "code",
        "colab": {
          "base_uri": "https://localhost:8080/",
          "height": 129
        },
        "outputId": "fcb7b597-d183-49bf-c532-9c5888f04bea"
      },
      "source": [
        "###### Randomized Search #####\n",
        "from pprint import pprint\n",
        "from scipy.stats import truncnorm, uniform, lognorm, norm\n",
        "seed = 1234\n",
        "\n",
        "for i, j in enumerate(class_names):\n",
        "    training_labels = train[j]\n",
        "    training_labels = train[j]\n",
        "    logistic = LogisticRegression(C=0.1, tol=1e-4, solver='saga',class_weight ='balanced',max_iter=1000)\n",
        "    model_params = {\n",
        "      # randomly sample numbers for C parameter\n",
        "      'C': randint(4,200)\n",
        "      # normally distributed max_features, with mean .25, stddev .1, bounded between 0,1\n",
        "      'max_features': truncnorm(a=0, b=1, loc=0.25, scale=0.1),\n",
        "      # uniform distribution from 0.01 to 0.2 (0.01 + 0.199)\n",
        "      'min_samples_split': uniform(0.01, 0.199)\n",
        "    }\n",
        "    clf = RandomizedSearchCV(logistic, model_params, n_iter=100, cv=5, random_state=seed)\n",
        "    model = clf.fit(train_features, training_labels)\n",
        "    pprint(model.best_estimator_.get_params())              "
      ],
      "execution_count": 3,
      "outputs": [
        {
          "output_type": "error",
          "ename": "SyntaxError",
          "evalue": "ignored",
          "traceback": [
            "\u001b[0;36m  File \u001b[0;32m\"<ipython-input-3-b405d2ca4976>\"\u001b[0;36m, line \u001b[0;32m13\u001b[0m\n\u001b[0;31m    'max_features': truncnorm(a=0, b=1, loc=0.25, scale=0.1),\u001b[0m\n\u001b[0m                 ^\u001b[0m\n\u001b[0;31mSyntaxError\u001b[0m\u001b[0;31m:\u001b[0m invalid syntax\n"
          ]
        }
      ]
    }
  ]
}