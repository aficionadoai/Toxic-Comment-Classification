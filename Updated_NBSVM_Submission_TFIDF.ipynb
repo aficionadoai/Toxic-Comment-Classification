{
  "nbformat": 4,
  "nbformat_minor": 0,
  "metadata": {
    "colab": {
      "name": "Updated NBSVM Submission TFIDF.ipynb",
      "provenance": [],
      "collapsed_sections": [],
      "machine_shape": "hm",
      "include_colab_link": true
    },
    "kernelspec": {
      "name": "python3",
      "display_name": "Python 3"
    },
    "accelerator": "GPU"
  },
  "cells": [
    {
      "cell_type": "markdown",
      "metadata": {
        "id": "view-in-github",
        "colab_type": "text"
      },
      "source": [
        "<a href=\"https://colab.research.google.com/github/markerenberg/Toxic-Comment-Classification/blob/master/Updated_NBSVM_Submission_TFIDF.ipynb\" target=\"_parent\"><img src=\"https://colab.research.google.com/assets/colab-badge.svg\" alt=\"Open In Colab\"/></a>"
      ]
    },
    {
      "cell_type": "code",
      "metadata": {
        "id": "_6AvEhk7_upV",
        "colab_type": "code",
        "outputId": "2741c92b-3001-43cb-fac7-277d292e08a0",
        "colab": {
          "base_uri": "https://localhost:8080/",
          "height": 97
        }
      },
      "source": [
        "# Check if GPU is enabled\n",
        "import tensorflow as tf\n",
        "tf.test.gpu_device_name()"
      ],
      "execution_count": 0,
      "outputs": [
        {
          "output_type": "display_data",
          "data": {
            "text/html": [
              "<p style=\"color: red;\">\n",
              "The default version of TensorFlow in Colab will soon switch to TensorFlow 2.x.<br>\n",
              "We recommend you <a href=\"https://www.tensorflow.org/guide/migrate\" target=\"_blank\">upgrade</a> now \n",
              "or ensure your notebook will continue to use TensorFlow 1.x via the <code>%tensorflow_version 1.x</code> magic:\n",
              "<a href=\"https://colab.research.google.com/notebooks/tensorflow_version.ipynb\" target=\"_blank\">more info</a>.</p>\n"
            ],
            "text/plain": [
              "<IPython.core.display.HTML object>"
            ]
          },
          "metadata": {
            "tags": []
          }
        },
        {
          "output_type": "execute_result",
          "data": {
            "text/plain": [
              "''"
            ]
          },
          "metadata": {
            "tags": []
          },
          "execution_count": 1
        }
      ]
    },
    {
      "cell_type": "code",
      "metadata": {
        "id": "GHXV-Uu90Ldo",
        "colab_type": "code",
        "outputId": "106bedd7-ab0f-477d-b599-b8000d2a0756",
        "colab": {
          "base_uri": "https://localhost:8080/",
          "height": 233
        }
      },
      "source": [
        "##\n",
        "## =======================================================\n",
        "## Mark Erenberg \n",
        "## Toxic Comment Classification Challenge\n",
        "## =======================================================\n",
        "##\n",
        "\n",
        "# Objective: Create a model which predicts a probability of each type of toxicity for each comment.\n",
        "\n",
        "# import dependencies and files\n",
        "\n",
        "import os\n",
        "import time\n",
        "import pandas as pd\n",
        "import numpy as np\n",
        "from scipy import sparse\n",
        "from scipy.sparse import hstack\n",
        "import itertools\n",
        "import matplotlib.pyplot as plt\n",
        "import re\n",
        "import tempfile\n",
        "import warnings\n",
        "\n",
        "import lightgbm as lgb\n",
        "\n",
        "import nltk\n",
        "from nltk.stem.snowball import SnowballStemmer\n",
        "from nltk.stem import WordNetLemmatizer\n",
        "from nltk.corpus import wordnet\n",
        "from nltk import pos_tag, word_tokenize\n",
        "\n",
        "import gensim\n",
        "import gensim.models.keyedvectors as word2vec\n",
        "from gensim.models.fasttext import FastText\n",
        "from gensim.models.word2vec import Word2Vec\n",
        "\n",
        "import spacy\n",
        "import en_core_web_sm\n",
        "spacy_nlp = en_core_web_sm.load()\n",
        "spacy_nlp = spacy.load('en_core_web_sm')\n",
        "from spacy.lemmatizer import Lemmatizer\n",
        "\n",
        "from collections import Counter, defaultdict\n",
        "\n",
        "from sklearn import utils\n",
        "from sklearn.feature_extraction.text import CountVectorizer, TfidfVectorizer\n",
        "from sklearn.model_selection import StratifiedKFold\n",
        "from sklearn.linear_model import LogisticRegression\n",
        "from sklearn.metrics import precision_score, recall_score, f1_score, roc_auc_score, precision_recall_curve, average_precision_score\n",
        "from sklearn.model_selection import RandomizedSearchCV, GridSearchCV\n",
        "\n",
        "from keras.preprocessing.text import Tokenizer\n",
        "from keras.preprocessing.sequence import pad_sequences\n",
        "from keras.layers import Dense, Input, LSTM, Embedding, Dropout, Activation\n",
        "from keras.layers import Bidirectional, GlobalMaxPool1D\n",
        "from keras.models import Model\n",
        "from keras import initializers, regularizers, constraints, optimizers, layers\n",
        "from keras.optimizers import Adam\n",
        "from keras.callbacks import Callback\n",
        "\n",
        "################### Data Loading ###################\n",
        "#os.chdir('C:\\\\Users\\\\marke\\\\Downloads\\\\Toxic Classification')\n",
        "train = pd.read_csv('train.csv').fillna('')\n",
        "test = pd.read_csv('test.csv').fillna('')\n",
        "\n",
        "train_text = train[['id','comment_text']].drop_duplicates()\n",
        "df = pd.concat([train_text,test],axis=0,ignore_index=True)\n",
        "\n",
        "################### Data Cleaning ####################\n",
        "nltk.download('stopwords')\n",
        "nltk.download('wordnet')\n",
        "nltk.download('averaged_perceptron_tagger')\n",
        "nltk.download('punkt')\n",
        "\n",
        "wpt = nltk.WordPunctTokenizer()\n",
        "stop_words = nltk.corpus.stopwords.words('english')\n",
        "cv = CountVectorizer(min_df=0., max_df=1.)\n",
        "\n",
        "# Simple way to get the number of occurence of a regex\n",
        "def count_regexp_occ(regexp=\"\", text=None):\n",
        "    return len(re.findall(regexp, text))\n",
        "\n",
        "# Determine if file words exist:\n",
        "#print(len(df[df['comment_text'].str.contains('jpg')]))\n",
        "#print(len(df[df['comment_text'].str.contains('jpeg')]))\n",
        "#print(len(df[df['comment_text'].str.contains('http')]))\n",
        "#print(len(df[df['comment_text'].str.contains('pdf')]))\n",
        "#print(len(df[df['comment_text'].str.contains('html')]))\n",
        "\n",
        "# Remove non-alphabetic characters and split tokens by spaces/newlines\n",
        "def clean_document(doc):\n",
        "    # 1) Convert string to lower\n",
        "    #doc = bytes(doc.lower(), encoding=\"utf-8\")\n",
        "    doc = doc.lower()\n",
        "    # 2) Replace contracion patterns\n",
        "    cont_patterns = [\n",
        "    (r'(W|w)on\\'t', r'will not'),\n",
        "    (r'(C|c)an\\'t', r'can not'),\n",
        "    (r'(I|i)\\'m', r'i am'),\n",
        "    (r'(A|a)in\\'t', r'is not'),\n",
        "    (r'(\\w+)\\'ll', r'\\g<1> will'),\n",
        "    (r'(\\w+)n\\'t', r'\\g<1> not'),\n",
        "    (r'(\\w+)\\'ve', r'\\g<1> have'),\n",
        "    (r'(\\w+)\\'s', r'\\g<1> is'),\n",
        "    (r'(\\w+)\\'re', r'\\g<1> are'),\n",
        "    (r'(\\w+)\\'d', r'\\g<1> would'),\n",
        "    ]\n",
        "    patterns = [(re.compile(regex), repl) for (regex, repl) in cont_patterns]\n",
        "    for (pattern, repl) in patterns:\n",
        "        doc = re.sub(pattern, repl, doc)\n",
        "    # 3) Remove special characters\\whitespaces\n",
        "    doc = re.sub(r'[^a-zA-Z\\s]+', '', doc)\n",
        "    #doc = doc.encode('utf-8')\n",
        "    #doc = str(doc,'utf-8').strip()\n",
        "    doc = doc.strip()\n",
        "    # tokenize document\n",
        "    tokens = wpt.tokenize(doc)\n",
        "    # filter stopwords out of document\n",
        "    filtered_tokens = [token for token in tokens if token not in stop_words]\n",
        "    # re-create document from filtered tokens\n",
        "    doc = ' '.join(filtered_tokens)\n",
        "    #doc = ' '.join(tokens)\n",
        "    return doc\n",
        "\n",
        "# Lemmaitze comments:\n",
        "def lemmatize_comment(comment):\n",
        "        doc = spacy_nlp(comment)\n",
        "        return [token.lemma_ for token in doc if token.lemma_ != '-PRON-' ]         \n",
        "                \n",
        "#df['clean_comments'] = [clean_document(x) for x in df['comment_text']]\n",
        "#df['clean_comments_list'] = df['clean_comments'].apply(lambda x: x.split())\n",
        "#df['clean_lemmed'] = [lemmatize_comment(x) for x in df['clean_comments']]\n",
        "#df['clean_lemmed_str'] = df['clean_lemmed'].apply(lambda x: \" \".join(x))\n",
        "train['clean_comments'] = [clean_document(x) for x in train['comment_text']]\n",
        "train['clean_comments_list'] = train['clean_comments'].apply(lambda x: x.split())\n",
        "train['clean_lemmed'] = [lemmatize_comment(x) for x in train['clean_comments']]\n",
        "train['clean_lemmed_str'] = train['clean_lemmed'].apply(lambda x: \" \".join(x))\n",
        "\n",
        "class_names = ['toxic', 'severe_toxic', 'obscene', 'threat', 'insult', 'identity_hate']"
      ],
      "execution_count": 0,
      "outputs": [
        {
          "output_type": "stream",
          "text": [
            "Using TensorFlow backend.\n"
          ],
          "name": "stderr"
        },
        {
          "output_type": "display_data",
          "data": {
            "text/html": [
              "<p style=\"color: red;\">\n",
              "The default version of TensorFlow in Colab will soon switch to TensorFlow 2.x.<br>\n",
              "We recommend you <a href=\"https://www.tensorflow.org/guide/migrate\" target=\"_blank\">upgrade</a> now \n",
              "or ensure your notebook will continue to use TensorFlow 1.x via the <code>%tensorflow_version 1.x</code> magic:\n",
              "<a href=\"https://colab.research.google.com/notebooks/tensorflow_version.ipynb\" target=\"_blank\">more info</a>.</p>\n"
            ],
            "text/plain": [
              "<IPython.core.display.HTML object>"
            ]
          },
          "metadata": {
            "tags": []
          }
        },
        {
          "output_type": "stream",
          "text": [
            "[nltk_data] Downloading package stopwords to /root/nltk_data...\n",
            "[nltk_data]   Unzipping corpora/stopwords.zip.\n",
            "[nltk_data] Downloading package wordnet to /root/nltk_data...\n",
            "[nltk_data]   Unzipping corpora/wordnet.zip.\n",
            "[nltk_data] Downloading package averaged_perceptron_tagger to\n",
            "[nltk_data]     /root/nltk_data...\n",
            "[nltk_data]   Unzipping taggers/averaged_perceptron_tagger.zip.\n",
            "[nltk_data] Downloading package punkt to /root/nltk_data...\n",
            "[nltk_data]   Unzipping tokenizers/punkt.zip.\n"
          ],
          "name": "stdout"
        }
      ]
    },
    {
      "cell_type": "code",
      "metadata": {
        "colab_type": "code",
        "id": "HsGQpdB9hFMJ",
        "colab": {
          "base_uri": "https://localhost:8080/",
          "height": 71
        },
        "outputId": "270349f3-5ddd-4977-ce45-7fb4f90b9498"
      },
      "source": [
        "################### Compare with baseline TF-IDF features ###################\n",
        "\n",
        "# TF-IDF Vectorizer\n",
        "train_text = train['clean_lemmed_str']\n",
        "\n",
        "word_vectorizer = TfidfVectorizer(\n",
        "    min_df = 3,\n",
        "    max_df = 0.9,\n",
        "    sublinear_tf=True,\n",
        "    strip_accents='unicode',\n",
        "    analyzer='word',\n",
        "    token_pattern=r'\\w{1,}',\n",
        "    stop_words='english',\n",
        "    ngram_range=(1, 2),\n",
        "    max_features=20000)\n",
        "word_vectorizer.fit(train_text)\n",
        "train_word_features = word_vectorizer.transform(train_text)\n",
        "\n",
        "char_vectorizer = TfidfVectorizer(\n",
        "    min_df = 3,\n",
        "    max_df = 0.9,\n",
        "    sublinear_tf=True,\n",
        "    strip_accents='unicode',\n",
        "    analyzer='char',\n",
        "    stop_words='english',\n",
        "    ngram_range=(2, 6),\n",
        "    max_features=20000)\n",
        "char_vectorizer.fit(train_text)\n",
        "train_char_features = char_vectorizer.transform(train_text)\n",
        "\n",
        "train_tfidf_features = hstack([train_char_features, train_word_features]).tocsr()\n",
        "\n",
        "# Create features about type of text and category of text\n",
        "def add_features(df):\n",
        "    # Get length in words and characters\n",
        "    df[\"word_count\"] = df[\"comment_text\"].apply(lambda x: len(x.split()))\n",
        "    df[\"word_len_avg\"] = df[\"comment_text\"].apply(lambda x: np.mean([len(x) for x in x.split()]))\n",
        "    df[\"word_len_std\"] = df[\"comment_text\"].apply(lambda x: np.std([len(x) for x in x.split()]))\n",
        "    df[\"char_count\"] = df[\"comment_text\"].apply(lambda x: len(x))\n",
        "    # Create count variables to see if any are useful\n",
        "    df[\"upper_ratio\"] = df[\"comment_text\"].apply(lambda x: count_regexp_occ(r\"[A-Z]\", x)) /df['char_count']*100\n",
        "    df[\"number_ratio\"] = df[\"comment_text\"].apply(lambda x: count_regexp_occ(r\"[0-9]\", x)) / df[\"char_count\"] *100\n",
        "    df[\"excl_ratio\"] = df[\"comment_text\"].apply(lambda x: count_regexp_occ(r\"!\", x)) / df[\"char_count\"] *100\n",
        "    df[\"quest_ratio\"] = df[\"comment_text\"].apply(lambda x: count_regexp_occ(r\"\\?\", x)) / df[\"char_count\"] *100\n",
        "    df[\"equals_ratio\"] = df[\"comment_text\"].apply(lambda x: count_regexp_occ(r\"=\", x)) / df[\"char_count\"] *100\n",
        "    df[\"punct_ratio\"] = df[\"comment_text\"].apply(lambda x: count_regexp_occ(r\"[.!\\?=+#*|~-]\", x)) / df[\"char_count\"] *100\n",
        "    df[\"you_ratio\"] = df[\"comment_text\"].apply(lambda x: count_regexp_occ(r\"\\W[Yy]ou\\W\", x)) / df[\"word_count\"] *100\n",
        "    df[\"nb_fuck\"] = df[\"comment_text\"].apply(lambda x: count_regexp_occ(r\"[Ff][uU][cC][Kk]\", x))\n",
        "    df[\"nb_suck\"] = df[\"comment_text\"].apply(lambda x: count_regexp_occ(r\"[Ss]\\S{2}[Kk]\", x))\n",
        "    df[\"nb_dick\"] = df[\"comment_text\"].apply(lambda x: count_regexp_occ(r\"[dD]ick\", x))\n",
        "    df[\"nb_penis\"] = df[\"comment_text\"].apply(lambda x: count_regexp_occ(r\"[pP][eE][nN][iI][sS]\", x))\n",
        "    df[\"nb_pussy\"] = df[\"comment_text\"].apply(lambda x: count_regexp_occ(r\"[pP][uU][sS][sS][yY]\", x))\n",
        "    df[\"nb_cock\"] = df[\"comment_text\"].apply(lambda x: count_regexp_occ(r\"[cC]ock\", x))\n",
        "    df[\"8==D\"] = df[\"comment_text\"].apply(lambda x: count_regexp_occ(r\"8=+D\", x))\n",
        "    df[\"nb_gay\"] = df[\"comment_text\"].apply(lambda x: count_regexp_occ(r\"[gG][aA][yY]\", x))\n",
        "    df[\"nb_bitch\"] = df[\"comment_text\"].apply(lambda x: count_regexp_occ(r\"[bB][iI][tT][cC][hH]\", x))\n",
        "    df[\"nb_cunt\"] = df[\"comment_text\"].apply(lambda x: count_regexp_occ(r\"[cC][uU][nN][tT]\", x))\n",
        "    df[\"nb_shut_up\"] = df[\"comment_text\"].apply(lambda x: count_regexp_occ(r\"[sS][hH][uU][tT]\\s[uU][pP]\", x))\n",
        "    df[\"nb_mother\"] = df[\"comment_text\"].apply(lambda x: count_regexp_occ(r\"\\Wmother\\W\", x))\n",
        "    df[\"nb_ng\"] = df[\"comment_text\"].apply(lambda x: count_regexp_occ(r\"\\Wnigger\\W\", x))\n",
        "    df[\"nb_ng_2\"] = df[\"comment_text\"].apply(lambda x: count_regexp_occ(r\"\\Wnigga\\W\", x))\n",
        "\n",
        "def pos_tagging(df):\n",
        "    df[\"comment_raw\"] = df[\"comment_text\"].apply(lambda x: re.sub(r'[\\n\\r\\t\\r\\n]',r' ',x,re.I|re.U))\n",
        "    df[\"POS\"] = df[\"comment_raw\"].apply(lambda x: [token.pos_ for token in spacy_nlp(x)])\n",
        "    \n",
        "def pos_features(df):\n",
        "    # Get number of proper nouns\n",
        "    df[\"PROPN\"] = df[\"POS\"].apply(lambda x: len([pos for pos in x if pos == 'PROPN']))\n",
        "    df[\"ADJ\"] = df[\"POS\"].apply(lambda x: len([pos for pos in x if pos == 'ADJ']))\n",
        "    df[\"INTJ\"] = df[\"POS\"].apply(lambda x: len([pos for pos in x if pos == 'INTJ']))\n",
        "    df[\"SYM\"] = df[\"POS\"].apply(lambda x: len([pos for pos in x if pos == 'SYM']))\n",
        "\n",
        "    \n",
        "#add_features(train)\n",
        "#pos_tagging(df)\n",
        "#pos_features(df)"
      ],
      "execution_count": 3,
      "outputs": [
        {
          "output_type": "stream",
          "text": [
            "/usr/local/lib/python3.6/dist-packages/sklearn/feature_extraction/text.py:520: UserWarning: The parameter 'stop_words' will not be used since 'analyzer' != 'word'\n",
            "  warnings.warn(\"The parameter 'stop_words' will not be used\"\n"
          ],
          "name": "stderr"
        }
      ]
    },
    {
      "cell_type": "code",
      "metadata": {
        "id": "xin2Hy4HSmEk",
        "colab_type": "code",
        "colab": {}
      },
      "source": [
        "################### Doc2Vec Feature Engineering ###################\n",
        "from gensim.models.doc2vec import Doc2Vec, TaggedDocument\n",
        "\n",
        "corpus = df['clean_lemmed'].to_list() \n",
        "documents = [TaggedDocument(doc, [i]) for i, doc in enumerate(corpus)]\n",
        "\n",
        "# Set values for various parameters\n",
        "vector_size = 100    # Document vector dimensionality  \n",
        "window = 5   # Context window size                                                                                    \n",
        "min_count = 5   # Minimum word count                        \n",
        "sample = 1e-2   # Which higher-frequency words are randomly downsampled\n",
        "dm = 1          # dm {0,1} = 1 if PV-DM, 0 if PV-DBOW\n",
        "epochs = 100     # epochs = number of training epochs over corpus (default 5)\n",
        "\n",
        "start_time = time.time()\n",
        "model = Doc2Vec(documents, \n",
        "                vector_size=vector_size,\n",
        "                window=window, \n",
        "                min_count=min_count, \n",
        "                sample = sample,\n",
        "                workers=4, \n",
        "                epochs = epochs)\n",
        "print(\"--- %s minutes ---\" % ((time.time() - start_time)/60))\n",
        "\n",
        "train_features = sparse.csr_matrix(np.array([model.docvecs[i] for i in range(train_text.shape[0])]))\n",
        "print(train_features.shape)\n",
        "\n",
        "# Use this if train features creates too many rows of data (using df, not train)\n",
        "#if train_features.shape[0] > train_text.shape[0]:\n",
        "#  index_to_use = list(range(train_text.shape[0]))\n",
        "#  train_features = train_features[index_to_use]"
      ],
      "execution_count": 0,
      "outputs": []
    },
    {
      "cell_type": "code",
      "metadata": {
        "id": "9VQclPRh4pwk",
        "colab_type": "code",
        "colab": {}
      },
      "source": [
        "from sklearn.base import BaseEstimator, ClassifierMixin\n",
        "from sklearn.utils.validation import check_X_y, check_is_fitted\n",
        "from sklearn.linear_model import LogisticRegression\n",
        "from scipy import sparse\n",
        "class NbSvmClassifier(BaseEstimator, ClassifierMixin):\n",
        "    def __init__(self, C=1.0, dual=False, n_jobs=1, multi_class='auto'):\n",
        "        self.C = C\n",
        "        self.dual = dual\n",
        "        self.n_jobs = n_jobs\n",
        "        self.multi_class = multi_class\n",
        "\n",
        "    def predict(self, x):\n",
        "        # Verify that model has been fit\n",
        "        #check_is_fitted(self, ['_r', '_clf'])\n",
        "        return self._clf.predict(x.multiply(self._r))\n",
        "\n",
        "    def predict_proba(self, x):\n",
        "        # Verify that model has been fit\n",
        "        #check_is_fitted(self, ['_r', '_clf'])\n",
        "        return self._clf.predict_proba(x.multiply(self._r))\n",
        "\n",
        "    def fit(self, x, y):\n",
        "        # Check that X and y have correct shape\n",
        "        y = y.values\n",
        "        x, y = check_X_y(x, y, accept_sparse=True)\n",
        "\n",
        "        def pr(x, y_i, y):\n",
        "            p = x[y==y_i].sum(0)\n",
        "            return (p+1) / ((y==y_i).sum()+1)\n",
        "\n",
        "        self._r = sparse.csr_matrix(np.log(pr(x,1,y) / pr(x,0,y)))\n",
        "        x_nb = x.multiply(self._r)\n",
        "        self._clf = LogisticRegression(C=self.C, dual=self.dual, n_jobs=self.n_jobs).fit(x_nb, y)\n",
        "        return self"
      ],
      "execution_count": 0,
      "outputs": []
    },
    {
      "cell_type": "code",
      "metadata": {
        "id": "F8BxH-8aaHxo",
        "colab_type": "code",
        "colab": {}
      },
      "source": [
        "# Set LGBM parameters\n",
        "params = {\n",
        "    \"objective\": \"binary\",\n",
        "    'metric': {'auc'},\n",
        "    \"boosting_type\": \"gbdt\",\n",
        "    \"verbosity\": -1,\n",
        "    \"num_threads\": -1,\n",
        "    \"bagging_fraction\": 0.8,\n",
        "    \"feature_fraction\": 0.8,\n",
        "    \"learning_rate\": 0.1,\n",
        "    \"num_leaves\": 31,\n",
        "    \"verbose\": -1\n",
        "    #\"min_split_gain\": .1,\n",
        "    #\"reg_alpha\": .1\n",
        "}"
      ],
      "execution_count": 0,
      "outputs": []
    },
    {
      "cell_type": "code",
      "metadata": {
        "id": "p3tTu71X3gUp",
        "colab_type": "code",
        "colab": {
          "base_uri": "https://localhost:8080/",
          "height": 1000
        },
        "outputId": "08f968e5-672a-4251-f363-d69b1375243e"
      },
      "source": [
        "##### Fit LGB Model #####\n",
        "warnings.filterwarnings(\"ignore\")\n",
        "\n",
        "train_features = train_tfidf_features\n",
        "\n",
        "class_names = ['toxic', 'severe_toxic', 'obscene', 'threat', 'insult', 'identity_hate']\n",
        "seed = 1234\n",
        "splits = 5\n",
        "folds = StratifiedKFold(n_splits=splits, shuffle=True, random_state=seed)\n",
        "\n",
        "trn_lgbset = lgb.Dataset(train_features, free_raw_data=False)\n",
        "lgb_rounds = 500\n",
        "for i, j in enumerate(class_names):\n",
        "    training_labels = train[j]\n",
        "    class_pred = np.zeros(len(train))\n",
        "    trn_lgbset.set_label(training_labels.values)\n",
        "    auc,precision,recall,thresholds = [],[],[],[]\n",
        "\n",
        "    # Make predictions for each fold in split, calculate evaluation metrics\n",
        "    for n_fold, (trn_idx, val_idx) in enumerate(folds.split(train_features, training_labels)):\n",
        "      # Train lgb l1\n",
        "      model = lgb.train(params=params,train_set=trn_lgbset.subset(trn_idx),\n",
        "          num_boost_round=lgb_rounds, valid_sets=[trn_lgbset.subset(val_idx)],\n",
        "          early_stopping_rounds=50,\n",
        "          verbose_eval=0)\n",
        "      class_pred[val_idx] = model.predict(trn_lgbset.data[val_idx], num_iteration=model.best_iteration)\n",
        "      auc.append(roc_auc_score(training_labels.values[val_idx], class_pred[val_idx],average='weighted'))\n",
        "      prec, recal, thresh = precision_recall_curve(training_labels.values[val_idx], class_pred[val_idx])\n",
        "      precision.append(prec)\n",
        "      recall.append(recal)\n",
        "      thresholds.append(thresh)\n",
        "\n",
        "    # Print out mean AUC score\n",
        "    print(\"fit: \",j,' | mean AUC: ',str(round(np.mean(auc),4)))\n",
        "    print(\"Thresholds: \"+str(thresholds[4]))\n",
        "    print(\"Precision: \"+str(precision[4]))\n",
        "    # Plot precision-recall curve\n",
        "    plt.figure()\n",
        "    plt.plot(recall[0], precision[0], 'ro', linewidth=2,label='Fold 1 Preds')\n",
        "    plt.plot(recall[1], precision[1], 'bo', linewidth=2,label='Fold 2 Preds')\n",
        "    plt.plot(recall[2], precision[2], 'go', linewidth=2,label='Fold 3 Preds')\n",
        "    plt.plot(recall[3], precision[3], 'yo', linewidth=2,label='Fold 4 Preds')\n",
        "    plt.plot(recall[4], precision[4], 'mo', linewidth=2,label='Fold 5 Preds')\n",
        "    plt.xlabel('Recall')\n",
        "    plt.ylabel('Precision')\n",
        "    plt.title('Class: '+j+' | Average Precision: '+str(average_precision_score(training_labels,class_pred,average='weighted')))\n",
        "    plt.legend()\n",
        "    plt.show()\n",
        "    \n",
        "\n"
      ],
      "execution_count": 5,
      "outputs": [
        {
          "output_type": "stream",
          "text": [
            "fit:  toxic  | mean AUC:  0.9715\n"
          ],
          "name": "stdout"
        },
        {
          "output_type": "display_data",
          "data": {
            "image/png": "[encoded data removed]",
            "text/plain": [
              "<Figure size 432x288 with 1 Axes>"
            ]
          },
          "metadata": {
            "tags": []
          }
        },
        {
          "output_type": "stream",
          "text": [
            "fit:  severe_toxic  | mean AUC:  0.9814\n"
          ],
          "name": "stdout"
        },
        {
          "output_type": "display_data",
          "data": {
            "image/png": "[encoded data removed]",
            "text/plain": [
              "<Figure size 432x288 with 1 Axes>"
            ]
          },
          "metadata": {
            "tags": []
          }
        },
        {
          "output_type": "stream",
          "text": [
            "fit:  obscene  | mean AUC:  0.9904\n"
          ],
          "name": "stdout"
        },
        {
          "output_type": "display_data",
          "data": {
            "image/png": "[encoded data removed]",
            "text/plain": [
              "<Figure size 432x288 with 1 Axes>"
            ]
          },
          "metadata": {
            "tags": []
          }
        },
        {
          "output_type": "stream",
          "text": [
            "fit:  threat  | mean AUC:  0.8212\n"
          ],
          "name": "stdout"
        },
        {
          "output_type": "display_data",
          "data": {
            "image/png": "[encoded data removed]",
            "text/plain": [
              "<Figure size 432x288 with 1 Axes>"
            ]
          },
          "metadata": {
            "tags": []
          }
        },
        {
          "output_type": "stream",
          "text": [
            "fit:  insult  | mean AUC:  0.9771\n"
          ],
          "name": "stdout"
        },
        {
          "output_type": "display_data",
          "data": {
            "image/png": "[encoded data removed]",
            "text/plain": [
              "<Figure size 432x288 with 1 Axes>"
            ]
          },
          "metadata": {
            "tags": []
          }
        },
        {
          "output_type": "stream",
          "text": [
            "fit:  identity_hate  | mean AUC:  0.9714\n"
          ],
          "name": "stdout"
        },
        {
          "output_type": "display_data",
          "data": {
            "image/png": "[encoded data removed]",
            "text/plain": [
              "<Figure size 432x288 with 1 Axes>"
            ]
          },
          "metadata": {
            "tags": []
          }
        }
      ]
    },
    {
      "cell_type": "code",
      "metadata": {
        "id": "w2s6TmVSh5in",
        "colab_type": "code",
        "colab": {}
      },
      "source": [
        "## Run all pre-processing code at once\n",
        "\n",
        "##\n",
        "## =======================================================\n",
        "## Mark Erenberg \n",
        "## Toxic Comment Classification Challenge\n",
        "## =======================================================\n",
        "##\n",
        "\n",
        "# Objective: Create a model which predicts a probability of each type of toxicity for each comment.\n",
        "\n",
        "# import dependencies and files\n",
        "\n",
        "import os\n",
        "import time\n",
        "import pandas as pd\n",
        "import numpy as np\n",
        "from scipy import sparse\n",
        "from scipy.sparse import hstack\n",
        "import itertools\n",
        "import matplotlib.pyplot as plt\n",
        "import re\n",
        "import tempfile\n",
        "\n",
        "import lightgbm as lgb\n",
        "\n",
        "import nltk\n",
        "from nltk.stem.snowball import SnowballStemmer\n",
        "from nltk.stem import WordNetLemmatizer\n",
        "from nltk.corpus import wordnet\n",
        "from nltk import pos_tag, word_tokenize\n",
        "\n",
        "import gensim\n",
        "import gensim.models.keyedvectors as word2vec\n",
        "from gensim.models.fasttext import FastText\n",
        "from gensim.models.word2vec import Word2Vec\n",
        "\n",
        "import spacy\n",
        "import en_core_web_sm\n",
        "spacy_nlp = en_core_web_sm.load()\n",
        "spacy_nlp = spacy.load('en_core_web_sm')\n",
        "from spacy.lemmatizer import Lemmatizer\n",
        "\n",
        "from collections import Counter, defaultdict\n",
        "\n",
        "from sklearn import utils\n",
        "from sklearn.feature_extraction.text import CountVectorizer, TfidfVectorizer\n",
        "from sklearn.model_selection import StratifiedKFold\n",
        "from sklearn.linear_model import LogisticRegression\n",
        "from sklearn.metrics import precision_score, recall_score, accuracy_score, roc_auc_score\n",
        "from sklearn.model_selection import RandomizedSearchCV, GridSearchCV\n",
        "\n",
        "from keras.preprocessing.text import Tokenizer\n",
        "from keras.preprocessing.sequence import pad_sequences\n",
        "from keras.layers import Dense, Input, LSTM, Embedding, Dropout, Activation\n",
        "from keras.layers import Bidirectional, GlobalMaxPool1D\n",
        "from keras.models import Model\n",
        "from keras import initializers, regularizers, constraints, optimizers, layers\n",
        "from keras.optimizers import Adam\n",
        "from keras.callbacks import Callback\n",
        "\n",
        "################### Data Loading ###################\n",
        "#os.chdir('C:\\\\Users\\\\marke\\\\Downloads\\\\Toxic Classification')\n",
        "train = pd.read_csv('train.csv').fillna('')\n",
        "test = pd.read_csv('test.csv').fillna('')\n",
        "\n",
        "train_text = train[['id','comment_text']].drop_duplicates()\n",
        "df = pd.concat([train_text,test],ignore_index=True)\n",
        "\n",
        "################### Data Cleaning ####################\n",
        "nltk.download('stopwords')\n",
        "nltk.download('wordnet')\n",
        "nltk.download('averaged_perceptron_tagger')\n",
        "nltk.download('punkt')\n",
        "\n",
        "wpt = nltk.WordPunctTokenizer()\n",
        "stop_words = nltk.corpus.stopwords.words('english')\n",
        "cv = CountVectorizer(min_df=0., max_df=1.)\n",
        "\n",
        "# Simple way to get the number of occurence of a regex\n",
        "def count_regexp_occ(regexp=\"\", text=None):\n",
        "    return len(re.findall(regexp, text))\n",
        "\n",
        "# Remove non-alphabetic characters and split tokens by spaces/newlines\n",
        "def clean_document(doc):\n",
        "    # 1) Convert string to lower\n",
        "    #doc = bytes(doc.lower(), encoding=\"utf-8\")\n",
        "    doc = doc.lower()\n",
        "    # 2) Replace contracion patterns\n",
        "    cont_patterns = [\n",
        "    (r'(W|w)on\\'t', r'will not'),\n",
        "    (r'(C|c)an\\'t', r'can not'),\n",
        "    (r'(I|i)\\'m', r'i am'),\n",
        "    (r'(A|a)in\\'t', r'is not'),\n",
        "    (r'(\\w+)\\'ll', r'\\g<1> will'),\n",
        "    (r'(\\w+)n\\'t', r'\\g<1> not'),\n",
        "    (r'(\\w+)\\'ve', r'\\g<1> have'),\n",
        "    (r'(\\w+)\\'s', r'\\g<1> is'),\n",
        "    (r'(\\w+)\\'re', r'\\g<1> are'),\n",
        "    (r'(\\w+)\\'d', r'\\g<1> would'),\n",
        "    ]\n",
        "    patterns = [(re.compile(regex), repl) for (regex, repl) in cont_patterns]\n",
        "    for (pattern, repl) in patterns:\n",
        "        doc = re.sub(pattern, repl, doc)\n",
        "    # 3) Remove special characters\\whitespaces\n",
        "    doc = re.sub(r'[^a-zA-Z\\s]+', '', doc)\n",
        "    #doc = doc.encode('utf-8')\n",
        "    #doc = str(doc,'utf-8').strip()\n",
        "    doc = doc.strip()\n",
        "    # tokenize document\n",
        "    tokens = wpt.tokenize(doc)\n",
        "    # filter stopwords out of document\n",
        "    filtered_tokens = [token for token in tokens if token not in stop_words]\n",
        "    # re-create document from filtered tokens\n",
        "    doc = ' '.join(filtered_tokens)\n",
        "    #doc = ' '.join(tokens)\n",
        "    return doc\n",
        "\n",
        "# Lemmaitze comments:\n",
        "def lemmatize_comment(comment):\n",
        "        doc = spacy_nlp(comment)\n",
        "        return [token.lemma_ for token in doc]         \n",
        "                \n",
        "df['clean_comments'] = [clean_document(x) for x in df['comment_text']]\n",
        "df['clean_comments_list'] = df['clean_comments'].apply(lambda x: x.split())\n",
        "df['clean_lemmed'] = [lemmatize_comment(x) for x in df['clean_comments']]\n",
        "df['clean_lemmed_str'] = df['clean_lemmed'].apply(lambda x: \" \".join(x))\n",
        "train['clean_comments'] = [clean_document(x) for x in train['comment_text']]\n",
        "train['clean_comments_list'] = train['clean_comments'].apply(lambda x: x.split())\n",
        "train['clean_lemmed'] = [lemmatize_comment(x) for x in train['clean_comments']]\n",
        "train['clean_lemmed_str'] = train['clean_lemmed'].apply(lambda x: \" \".join(x))\n",
        "\n",
        "class_names = ['toxic', 'severe_toxic', 'obscene', 'threat', 'insult', 'identity_hate']\n",
        "\n",
        "## ========== Feature Engineering=====================\n",
        "\n",
        "# Set values for various parameters\n",
        "feature_size = 300    # Word vector dimensionality  \n",
        "window_context = 10          # Context window size                                                                                    \n",
        "min_word_count = 5   # Minimum word count                        \n",
        "sample = 1e-3   # Which higher-frequency words are randomly downsampled\n",
        "sg = 1          # sg {0,1} = 1 if skip-gram, 0 if CBOW,\n",
        "epochs = 100     # epochs = number of training epochs over corpus (default 5)\n",
        "\n",
        "tokenized_corpus = df['clean_comments_list']\n",
        "\n",
        "# Fit FastText model on pre-processed corpus\n",
        "start_time = time.time()\n",
        "#ft_model = FastText(tokenized_corpus, size=feature_size, window=window_context, \n",
        "#                    min_count=min_word_count,sample=sample, sg=sg, iter=epochs)\n",
        "model = Word2Vec(tokenized_corpus, size=feature_size, window=window_context, \n",
        "                 min_count=min_word_count, sample=sample, sg=sg, iter=epochs)\n",
        "print(\"--- %s minutes ---\" % ((time.time() - start_time)/60))\n",
        "w2v = {w: vec for w, vec in zip(model.wv.index2word, model.wv.syn0)}\n",
        "\n",
        "word2vec = model\n",
        "X = train['clean_lemmed_str']\n",
        "\n",
        "def tf2vec_fit(X):\n",
        "    #tfidf = TfidfVectorizer(sublinear_tf=True,strip_accents='unicode',analyzer=lambda x: x)\n",
        "    tfidf = TfidfVectorizer(\n",
        "      sublinear_tf=True,\n",
        "      strip_accents='unicode',\n",
        "      analyzer='word',\n",
        "      token_pattern=r'\\w{1,}',\n",
        "      stop_words='english',\n",
        "      ngram_range=(1, 2),\n",
        "      max_features=40000)\n",
        "    tfidf.fit(X)\n",
        "    # if a word was never seen - it must be at least as infrequent\n",
        "    # as any of the known words - so the default idf is the max of \n",
        "    # known idf's\n",
        "    max_idf = max(tfidf.idf_)\n",
        "    word2weight = defaultdict(lambda: max_idf, [(w, tfidf.idf_[i]) for w, i in tfidf.vocabulary_.items()])\n",
        "    return word2weight\n",
        "\n",
        "def transform(X,word2weight):\n",
        "        return np.array([\n",
        "                np.mean([word2vec[w] * word2weight[w]\n",
        "                         for w in words if w in word2vec] or\n",
        "                        [np.zeros(feature_size)], axis=0)\n",
        "                for words in X\n",
        "            ])\n",
        "\n",
        "def tf2vec_transform(X, word2weight):\n",
        "    return sparse.csr_matrix([\n",
        "                np.mean([word2vec[w] * word2weight[w]\n",
        "                         for w in words if w in word2vec] or \n",
        "                        [np.zeros(feature_size)], axis=0)\n",
        "            for words in X])\n",
        "    \n",
        "tf2vec_features = transform(X,tf2vec_fit(X))\n",
        "train_features = sparse.csr_matrix(tf2vec_features)\n",
        "\n",
        "## Shift Word Embedding Vectors for NB equation\n",
        "#print(train_features.shape)\n",
        "min_val = np.min(train_features.data)\n",
        "shift_val = round((min_val * -1) + 1,0)\n",
        "\n",
        "def shift_elements(mat):\n",
        "    x = mat.copy()\n",
        "    cx = x.tocoo()    \n",
        "    for i,j,v in zip(cx.row, cx.col, cx.data):\n",
        "        x[i,j] = v + shift_val\n",
        "    return x\n",
        "\n",
        "shifted_csr = shift_elements(train_features)\n",
        "\n",
        "class_names = ['toxic', 'severe_toxic', 'obscene', 'threat', 'insult', 'identity_hate']\n",
        "seed = 1234\n",
        "folds = StratifiedKFold(n_splits=5, shuffle=True, random_state=seed)\n",
        "preds = {}\n",
        "\n",
        "# Set LGBM parameters\n",
        "params = {\n",
        "    \"objective\": \"binary\",\n",
        "    'metric': {'auc'},\n",
        "    \"boosting_type\": \"gbdt\",\n",
        "    \"verbosity\": -1,\n",
        "    \"num_threads\": -1,\n",
        "    \"bagging_fraction\": 0.8,\n",
        "    \"feature_fraction\": 0.8,\n",
        "    \"learning_rate\": 0.1,\n",
        "    \"num_leaves\": 31,\n",
        "    \"verbose\": -1\n",
        "    #\"min_split_gain\": .1,\n",
        "    #\"reg_alpha\": .1\n",
        "}\n"
      ],
      "execution_count": 0,
      "outputs": []
    },
    {
      "cell_type": "code",
      "metadata": {
        "id": "JQO-yvrRaUoF",
        "colab_type": "code",
        "colab": {}
      },
      "source": [
        "##### Fit LGB Model #####\n",
        "import warnings\n",
        "warnings.filterwarnings(\"ignore\")\n",
        "\n",
        "trn_lgbset = lgb.Dataset(train_features, free_raw_data=False)\n",
        "lgb_rounds = 500\n",
        "for i, j in enumerate(class_names):\n",
        "    training_labels = train[j]\n",
        "    trn_lgbset.set_label(training_labels.values)\n",
        "    scores = []\n",
        "    for n_fold, (trn_idx, val_idx) in enumerate(folds.split(train_features, training_labels)):\n",
        "      # Train lgb l1\n",
        "      model = lgb.train(params=params,train_set=trn_lgbset.subset(trn_idx),\n",
        "          num_boost_round=lgb_rounds, valid_sets=[trn_lgbset.subset(val_idx)],\n",
        "          early_stopping_rounds=100,\n",
        "          verbose_eval=0)\n",
        "      preds[j] = model.predict(trn_lgbset.data[val_idx], num_iteration=model.best_iteration)\n",
        "      # pred_probs =  model.predict_proba(trn_lgbset.data[val_idx], num_iteration=model.best_iteration)\n",
        "      scores.append(roc_auc_score(training_labels.values[val_idx], preds[j]))\n",
        "\n",
        "      \"\"\"\n",
        "      ## Calculate ROC curves\n",
        "      from sklearn.metrics import roc_curve\n",
        "      pred_probs = model.predict_proba(trn_lgbset.data[val_idx], num_iteration=model.best_iteration)\n",
        "      ns_probs = [0 for _ in range(len(training_labels.values[val_idx]))]\n",
        "\n",
        "      clf_fpr, clf_tpr, _ = roc_curve(training_labels.values[val_idx], pred_probs)\n",
        "      ns_fpr, ns_tpr, _ = roc_curve(training_labels.values[val_idx], ns_probs)\n",
        "\n",
        "      # Plot ROC curves\n",
        "      plt.figure(6,6)\n",
        "      plt.plot(clf_fpr, clf_tpr, marker='.', label='{} Classifier for fold {}'.format(j,n_fold))\n",
        "      plt.plot(ns_fpr, ns_tpr, linestyle='--', label='No Skill')\n",
        "      plt.xlabel('False Positive Rate')\n",
        "      plt.ylabel('True Positive Rate')\n",
        "      plt.legend()\n",
        "      plt.show()\n",
        "      \"\"\"\n",
        "    print('fit: ' + j + ' | score: ' + str(round(np.mean(scores),3)))\n"
      ],
      "execution_count": 0,
      "outputs": []
    },
    {
      "cell_type": "code",
      "metadata": {
        "id": "qWOCNn3XhF0e",
        "colab_type": "code",
        "colab": {}
      },
      "source": [
        "###### Randomized Search #####\n",
        "from pprint import pprint\n",
        "from scipy.stats import truncnorm, uniform, lognorm, norm\n",
        "seed = 1234\n",
        "\n",
        "for i, j in enumerate(class_names):\n",
        "    training_labels = train[j]\n",
        "    training_labels = train[j]\n",
        "    logistic = LogisticRegression(C=0.1, tol=1e-4, solver='saga',class_weight ='balanced',max_iter=1000)\n",
        "    model_params = {\n",
        "      # randomly sample numbers for C parameter\n",
        "      'C': randint(4,200)\n",
        "      # normally distributed max_features, with mean .25, stddev .1, bounded between 0,1\n",
        "      'max_features': truncnorm(a=0, b=1, loc=0.25, scale=0.1),\n",
        "      # uniform distribution from 0.01 to 0.2 (0.01 + 0.199)\n",
        "      'min_samples_split': uniform(0.01, 0.199)\n",
        "    }\n",
        "    clf = RandomizedSearchCV(logistic, model_params, n_iter=100, cv=5, random_state=seed)\n",
        "    model = clf.fit(train_features, training_labels)\n",
        "    pprint(model.best_estimator_.get_params())              "
      ],
      "execution_count": 0,
      "outputs": []
    }
  ]
}