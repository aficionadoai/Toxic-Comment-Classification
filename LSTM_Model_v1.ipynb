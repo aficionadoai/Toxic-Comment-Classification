{
  "nbformat": 4,
  "nbformat_minor": 0,
  "metadata": {
    "colab": {
      "name": "LSTM Model v1.ipynb",
      "provenance": [],
      "collapsed_sections": [],
      "machine_shape": "hm",
      "include_colab_link": true
    },
    "kernelspec": {
      "name": "python3",
      "display_name": "Python 3"
    },
    "accelerator": "GPU"
  },
  "cells": [
    {
      "cell_type": "markdown",
      "metadata": {
        "id": "view-in-github",
        "colab_type": "text"
      },
      "source": [
        "<a href=\"https://colab.research.google.com/github/markerenberg/Toxic-Comment-Classification/blob/master/LSTM_Model_v1.ipynb\" target=\"_parent\"><img src=\"https://colab.research.google.com/assets/colab-badge.svg\" alt=\"Open In Colab\"/></a>"
      ]
    },
    {
      "cell_type": "code",
      "metadata": {
        "id": "_6AvEhk7_upV",
        "colab_type": "code",
        "colab": {}
      },
      "source": [
        "# Check if GPU is enabled\n",
        "import tensorflow as tf\n",
        "tf.test.gpu_device_name()"
      ],
      "execution_count": 0,
      "outputs": []
    },
    {
      "cell_type": "code",
      "metadata": {
        "id": "GHXV-Uu90Ldo",
        "colab_type": "code",
        "outputId": "35cca00c-3ec6-49dd-eece-72a73c53f43e",
        "colab": {
          "base_uri": "https://localhost:8080/",
          "height": 233
        }
      },
      "source": [
        "##\n",
        "## =======================================================\n",
        "## Mark Erenberg \n",
        "## Toxic Comment Classification Challenge\n",
        "## =======================================================\n",
        "##\n",
        "\n",
        "# Objective: Create a model which predicts a probability of each type of toxicity for each comment.\n",
        "\n",
        "# import dependencies and files\n",
        "\n",
        "import os\n",
        "import time\n",
        "import pandas as pd\n",
        "import numpy as np\n",
        "from scipy import sparse\n",
        "from scipy.sparse import hstack\n",
        "import itertools\n",
        "import matplotlib.pyplot as plt\n",
        "import re\n",
        "import tempfile\n",
        "import warnings\n",
        "\n",
        "import lightgbm as lgb\n",
        "\n",
        "import nltk\n",
        "from nltk.stem.snowball import SnowballStemmer\n",
        "from nltk.stem import WordNetLemmatizer\n",
        "from nltk.corpus import wordnet\n",
        "from nltk import pos_tag, word_tokenize\n",
        "\n",
        "import gensim\n",
        "import gensim.models.keyedvectors as word2vec\n",
        "from gensim.models.fasttext import FastText\n",
        "from gensim.models.word2vec import Word2Vec\n",
        "\n",
        "import spacy\n",
        "import en_core_web_sm\n",
        "spacy_nlp = en_core_web_sm.load()\n",
        "spacy_nlp = spacy.load('en_core_web_sm')\n",
        "from spacy.lemmatizer import Lemmatizer\n",
        "\n",
        "from collections import Counter, defaultdict\n",
        "\n",
        "from sklearn import utils\n",
        "from sklearn.feature_extraction.text import CountVectorizer, TfidfVectorizer\n",
        "from sklearn.model_selection import StratifiedKFold\n",
        "from sklearn.linear_model import LogisticRegression\n",
        "from sklearn.metrics import precision_score, recall_score, f1_score, roc_auc_score, precision_recall_curve, average_precision_score\n",
        "from sklearn.model_selection import RandomizedSearchCV, GridSearchCV\n",
        "\n",
        "from keras.preprocessing.text import Tokenizer\n",
        "from keras.preprocessing.sequence import pad_sequences\n",
        "from keras.layers import Dense, Input, LSTM, Embedding, Dropout, Activation\n",
        "from keras.layers import Bidirectional, GlobalMaxPool1D\n",
        "from keras.models import Model\n",
        "from keras import initializers, regularizers, constraints, optimizers, layers\n",
        "from keras.optimizers import Adam\n",
        "from keras.callbacks import Callback\n",
        "\n",
        "################### Data Loading ###################\n",
        "#os.chdir('C:\\\\Users\\\\marke\\\\Downloads\\\\Toxic Classification')\n",
        "train = pd.read_csv('train.csv').fillna('')\n",
        "test = pd.read_csv('test.csv').fillna('')\n",
        "\n",
        "train_text = train[['id','comment_text']].drop_duplicates()\n",
        "df = pd.concat([train_text,test],axis=0,ignore_index=True)\n",
        "\n",
        "################### Data Cleaning ####################\n",
        "nltk.download('stopwords')\n",
        "nltk.download('wordnet')\n",
        "nltk.download('averaged_perceptron_tagger')\n",
        "nltk.download('punkt')\n",
        "\n",
        "wpt = nltk.WordPunctTokenizer()\n",
        "stop_words = nltk.corpus.stopwords.words('english')\n",
        "cv = CountVectorizer(min_df=0., max_df=1.)\n",
        "\n",
        "# Simple way to get the number of occurence of a regex\n",
        "def count_regexp_occ(regexp=\"\", text=None):\n",
        "    return len(re.findall(regexp, text))\n",
        "\n",
        "# Determine if file words exist:\n",
        "#print(len(df[df['comment_text'].str.contains('jpg')]))\n",
        "#print(len(df[df['comment_text'].str.contains('jpeg')]))\n",
        "#print(len(df[df['comment_text'].str.contains('http')]))\n",
        "#print(len(df[df['comment_text'].str.contains('pdf')]))\n",
        "#print(len(df[df['comment_text'].str.contains('html')]))\n",
        "\n",
        "# Remove non-alphabetic characters and split tokens by spaces/newlines\n",
        "def clean_document(doc):\n",
        "    # 1) Convert string to lower\n",
        "    #doc = bytes(doc.lower(), encoding=\"utf-8\")\n",
        "    doc = doc.lower()\n",
        "    # 2) Replace contracion patterns\n",
        "    cont_patterns = [\n",
        "    (r'(W|w)on\\'t', r'will not'),\n",
        "    (r'(C|c)an\\'t', r'can not'),\n",
        "    (r'(I|i)\\'m', r'i am'),\n",
        "    (r'(A|a)in\\'t', r'is not'),\n",
        "    (r'(\\w+)\\'ll', r'\\g<1> will'),\n",
        "    (r'(\\w+)n\\'t', r'\\g<1> not'),\n",
        "    (r'(\\w+)\\'ve', r'\\g<1> have'),\n",
        "    (r'(\\w+)\\'s', r'\\g<1> is'),\n",
        "    (r'(\\w+)\\'re', r'\\g<1> are'),\n",
        "    (r'(\\w+)\\'d', r'\\g<1> would'),\n",
        "    ]\n",
        "    patterns = [(re.compile(regex), repl) for (regex, repl) in cont_patterns]\n",
        "    for (pattern, repl) in patterns:\n",
        "        doc = re.sub(pattern, repl, doc)\n",
        "    # 3) Remove special characters\\whitespaces\n",
        "    doc = re.sub(r'[^a-zA-Z\\s]+', '', doc)\n",
        "    #doc = doc.encode('utf-8')\n",
        "    #doc = str(doc,'utf-8').strip()\n",
        "    doc = doc.strip()\n",
        "    # tokenize document\n",
        "    tokens = wpt.tokenize(doc)\n",
        "    # filter stopwords out of document\n",
        "    filtered_tokens = [token for token in tokens if token not in stop_words]\n",
        "    # re-create document from filtered tokens\n",
        "    doc = ' '.join(filtered_tokens)\n",
        "    #doc = ' '.join(tokens)\n",
        "    return doc\n",
        "\n",
        "# Lemmaitze comments:\n",
        "def lemmatize_comment(comment):\n",
        "        doc = spacy_nlp(comment)\n",
        "        return [token.lemma_ for token in doc if token.lemma_ != '-PRON-' ]         \n",
        "                \n",
        "#df['clean_comments'] = [clean_document(x) for x in df['comment_text']]\n",
        "#df['clean_comments_list'] = df['clean_comments'].apply(lambda x: x.split())\n",
        "#df['clean_lemmed'] = [lemmatize_comment(x) for x in df['clean_comments']]\n",
        "#df['clean_lemmed_str'] = df['clean_lemmed'].apply(lambda x: \" \".join(x))\n",
        "train['clean_comments'] = [clean_document(x) for x in train['comment_text']]\n",
        "train['clean_comments_list'] = train['clean_comments'].apply(lambda x: x.split())\n",
        "train['clean_lemmed'] = [lemmatize_comment(x) for x in train['clean_comments']]\n",
        "train['clean_lemmed_str'] = train['clean_lemmed'].apply(lambda x: \" \".join(x))\n",
        "\n",
        "class_names = ['toxic', 'severe_toxic', 'obscene', 'threat', 'insult', 'identity_hate']"
      ],
      "execution_count": 0,
      "outputs": [
        {
          "output_type": "stream",
          "text": [
            "Using TensorFlow backend.\n"
          ],
          "name": "stderr"
        },
        {
          "output_type": "display_data",
          "data": {
            "text/html": [
              "<p style=\"color: red;\">\n",
              "The default version of TensorFlow in Colab will soon switch to TensorFlow 2.x.<br>\n",
              "We recommend you <a href=\"https://www.tensorflow.org/guide/migrate\" target=\"_blank\">upgrade</a> now \n",
              "or ensure your notebook will continue to use TensorFlow 1.x via the <code>%tensorflow_version 1.x</code> magic:\n",
              "<a href=\"https://colab.research.google.com/notebooks/tensorflow_version.ipynb\" target=\"_blank\">more info</a>.</p>\n"
            ],
            "text/plain": [
              "<IPython.core.display.HTML object>"
            ]
          },
          "metadata": {
            "tags": []
          }
        },
        {
          "output_type": "stream",
          "text": [
            "[nltk_data] Downloading package stopwords to /root/nltk_data...\n",
            "[nltk_data]   Unzipping corpora/stopwords.zip.\n",
            "[nltk_data] Downloading package wordnet to /root/nltk_data...\n",
            "[nltk_data]   Unzipping corpora/wordnet.zip.\n",
            "[nltk_data] Downloading package averaged_perceptron_tagger to\n",
            "[nltk_data]     /root/nltk_data...\n",
            "[nltk_data]   Unzipping taggers/averaged_perceptron_tagger.zip.\n",
            "[nltk_data] Downloading package punkt to /root/nltk_data...\n",
            "[nltk_data]   Unzipping tokenizers/punkt.zip.\n"
          ],
          "name": "stdout"
        }
      ]
    },
    {
      "cell_type": "code",
      "metadata": {
        "id": "jgseRNtSa4O8",
        "colab_type": "code",
        "colab": {}
      },
      "source": [
        "##### Declare Variables #####\n",
        "\n",
        "train_features = train_tfidf_features\n",
        "\n",
        "seed = 1234\n",
        "splits = 5\n",
        "folds = StratifiedKFold(n_splits=splits, shuffle=True, random_state=seed)\n",
        "\n",
        "j = 'threat'\n",
        "training_labels = train[j]\n",
        "class_pred = np.zeros(train_features.shape[0])\n",
        "auc,precision,recall,thresholds = [],[],[],[]\n"
      ],
      "execution_count": 0,
      "outputs": []
    },
    {
      "cell_type": "code",
      "metadata": {
        "id": "2qKmhvVVWtoi",
        "colab_type": "code",
        "colab": {}
      },
      "source": [
        "##### LSTM using Keras #####\n",
        "\n",
        "\n"
      ],
      "execution_count": 0,
      "outputs": []
    }
  ]
}