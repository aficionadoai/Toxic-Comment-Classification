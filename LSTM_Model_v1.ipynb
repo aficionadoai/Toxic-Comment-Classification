{
  "nbformat": 4,
  "nbformat_minor": 0,
  "metadata": {
    "colab": {
      "name": "LSTM Model v1.ipynb",
      "provenance": [],
      "collapsed_sections": [],
      "machine_shape": "hm",
      "include_colab_link": true
    },
    "kernelspec": {
      "name": "python3",
      "display_name": "Python 3"
    },
    "accelerator": "GPU"
  },
  "cells": [
    {
      "cell_type": "markdown",
      "metadata": {
        "id": "view-in-github",
        "colab_type": "text"
      },
      "source": [
        "<a href=\"https://colab.research.google.com/github/markerenberg/Toxic-Comment-Classification/blob/master/LSTM_Model_v1.ipynb\" target=\"_parent\"><img src=\"https://colab.research.google.com/assets/colab-badge.svg\" alt=\"Open In Colab\"/></a>"
      ]
    },
    {
      "cell_type": "code",
      "metadata": {
        "id": "_6AvEhk7_upV",
        "colab_type": "code",
        "colab": {}
      },
      "source": [
        "# Check if GPU is enabled\n",
        "import tensorflow as tf\n",
        "tf.test.gpu_device_name()"
      ],
      "execution_count": 0,
      "outputs": []
    },
    {
      "cell_type": "code",
      "metadata": {
        "id": "GHXV-Uu90Ldo",
        "colab_type": "code",
        "outputId": "775227b2-ab72-4eae-bc86-39a9b385f143",
        "colab": {
          "base_uri": "https://localhost:8080/",
          "height": 233
        }
      },
      "source": [
        "##\n",
        "## =======================================================\n",
        "## Mark Erenberg \n",
        "## Toxic Comment Classification Challenge\n",
        "## =======================================================\n",
        "##\n",
        "\n",
        "# Objective: Create a model which predicts a probability of each type of toxicity for each comment.\n",
        "\n",
        "# import dependencies and files\n",
        "\n",
        "import os\n",
        "import time\n",
        "import pandas as pd\n",
        "import numpy as np\n",
        "from scipy import sparse\n",
        "from scipy.sparse import hstack\n",
        "import itertools\n",
        "import matplotlib.pyplot as plt\n",
        "import re\n",
        "import tempfile\n",
        "import warnings\n",
        "\n",
        "import lightgbm as lgb\n",
        "\n",
        "import nltk\n",
        "from nltk.stem.snowball import SnowballStemmer\n",
        "from nltk.stem import WordNetLemmatizer\n",
        "from nltk.corpus import wordnet\n",
        "from nltk import pos_tag, word_tokenize\n",
        "\n",
        "import gensim\n",
        "import gensim.models.keyedvectors as word2vec\n",
        "from gensim.models.fasttext import FastText\n",
        "from gensim.models.word2vec import Word2Vec\n",
        "\n",
        "import spacy\n",
        "import en_core_web_sm\n",
        "spacy_nlp = en_core_web_sm.load()\n",
        "spacy_nlp = spacy.load('en_core_web_sm')\n",
        "from spacy.lemmatizer import Lemmatizer\n",
        "\n",
        "from collections import Counter, defaultdict\n",
        "\n",
        "from sklearn import utils\n",
        "from sklearn.feature_extraction.text import CountVectorizer, TfidfVectorizer\n",
        "from sklearn.model_selection import StratifiedKFold\n",
        "from sklearn.linear_model import LogisticRegression\n",
        "from sklearn.metrics import precision_score, recall_score, f1_score, roc_auc_score, precision_recall_curve, average_precision_score\n",
        "from sklearn.model_selection import RandomizedSearchCV, GridSearchCV, train_test_split\n",
        "\n",
        "from keras.preprocessing.text import Tokenizer\n",
        "from keras.preprocessing.sequence import pad_sequences\n",
        "from keras.layers import Dense, Input, LSTM, Embedding, Bidirectional, Dropout, Activation\n",
        "from keras.layers import Bidirectional, GlobalMaxPool1D\n",
        "from keras.models import Model, Sequential\n",
        "from keras import initializers, regularizers, constraints, optimizers, layers\n",
        "from keras.optimizers import Adam\n",
        "from keras.callbacks import Callback\n",
        "\n",
        "################### Data Loading ###################\n",
        "#os.chdir('C:\\\\Users\\\\marke\\\\Downloads\\\\Toxic Classification')\n",
        "train = pd.read_csv('train.csv').fillna('')\n",
        "test = pd.read_csv('test.csv').fillna('')\n",
        "\n",
        "train_text = train[['id','comment_text']].drop_duplicates()\n",
        "df = pd.concat([train_text,test],axis=0,ignore_index=True)\n",
        "\n",
        "################### Data Cleaning ####################\n",
        "nltk.download('stopwords')\n",
        "nltk.download('wordnet')\n",
        "nltk.download('averaged_perceptron_tagger')\n",
        "nltk.download('punkt')\n",
        "\n",
        "wpt = nltk.WordPunctTokenizer()\n",
        "stop_words = nltk.corpus.stopwords.words('english')\n",
        "cv = CountVectorizer(min_df=0., max_df=1.)\n",
        "\n",
        "# Simple way to get the number of occurence of a regex\n",
        "def count_regexp_occ(regexp=\"\", text=None):\n",
        "    return len(re.findall(regexp, text))\n",
        "\n",
        "# Determine if file words exist:\n",
        "#print(len(df[df['comment_text'].str.contains('jpg')]))\n",
        "#print(len(df[df['comment_text'].str.contains('jpeg')]))\n",
        "#print(len(df[df['comment_text'].str.contains('http')]))\n",
        "#print(len(df[df['comment_text'].str.contains('pdf')]))\n",
        "#print(len(df[df['comment_text'].str.contains('html')]))\n",
        "\n",
        "# Remove non-alphabetic characters and split tokens by spaces/newlines\n",
        "def clean_document(doc):\n",
        "    # 1) Convert string to lower\n",
        "    #doc = bytes(doc.lower(), encoding=\"utf-8\")\n",
        "    doc = doc.lower()\n",
        "    # 2) Replace contracion patterns\n",
        "    cont_patterns = [\n",
        "    (r'(W|w)on\\'t', r'will not'),\n",
        "    (r'(C|c)an\\'t', r'can not'),\n",
        "    (r'(I|i)\\'m', r'i am'),\n",
        "    (r'(A|a)in\\'t', r'is not'),\n",
        "    (r'(\\w+)\\'ll', r'\\g<1> will'),\n",
        "    (r'(\\w+)n\\'t', r'\\g<1> not'),\n",
        "    (r'(\\w+)\\'ve', r'\\g<1> have'),\n",
        "    (r'(\\w+)\\'s', r'\\g<1> is'),\n",
        "    (r'(\\w+)\\'re', r'\\g<1> are'),\n",
        "    (r'(\\w+)\\'d', r'\\g<1> would'),\n",
        "    ]\n",
        "    patterns = [(re.compile(regex), repl) for (regex, repl) in cont_patterns]\n",
        "    for (pattern, repl) in patterns:\n",
        "        doc = re.sub(pattern, repl, doc)\n",
        "    # 3) Remove special characters\\whitespaces\n",
        "    doc = re.sub(r'[^a-zA-Z\\s]+', '', doc)\n",
        "    #doc = doc.encode('utf-8')\n",
        "    #doc = str(doc,'utf-8').strip()\n",
        "    doc = doc.strip()\n",
        "    # tokenize document\n",
        "    tokens = wpt.tokenize(doc)\n",
        "    # filter stopwords out of document\n",
        "    filtered_tokens = [token for token in tokens if token not in stop_words]\n",
        "    # re-create document from filtered tokens\n",
        "    doc = ' '.join(filtered_tokens)\n",
        "    #doc = ' '.join(tokens)\n",
        "    return doc\n",
        "\n",
        "# Lemmaitze comments:\n",
        "def lemmatize_comment(comment):\n",
        "        doc = spacy_nlp(comment)\n",
        "        return [token.lemma_ for token in doc if token.lemma_ != '-PRON-' ]         \n",
        "                \n",
        "#df['clean_comments'] = [clean_document(x) for x in df['comment_text']]\n",
        "#df['clean_comments_list'] = df['clean_comments'].apply(lambda x: x.split())\n",
        "#df['clean_lemmed'] = [lemmatize_comment(x) for x in df['clean_comments']]\n",
        "#df['clean_lemmed_str'] = df['clean_lemmed'].apply(lambda x: \" \".join(x))\n",
        "train['clean_comments'] = [clean_document(x) for x in train['comment_text']]\n",
        "train['clean_comments_list'] = train['clean_comments'].apply(lambda x: x.split())\n",
        "train['clean_lemmed'] = [lemmatize_comment(x) for x in train['clean_comments']]\n",
        "train['clean_lemmed_str'] = train['clean_lemmed'].apply(lambda x: \" \".join(x))\n",
        "\n",
        "class_names = ['toxic', 'severe_toxic', 'obscene', 'threat', 'insult', 'identity_hate']"
      ],
      "execution_count": 1,
      "outputs": [
        {
          "output_type": "stream",
          "text": [
            "Using TensorFlow backend.\n"
          ],
          "name": "stderr"
        },
        {
          "output_type": "display_data",
          "data": {
            "text/html": [
              "<p style=\"color: red;\">\n",
              "The default version of TensorFlow in Colab will soon switch to TensorFlow 2.x.<br>\n",
              "We recommend you <a href=\"https://www.tensorflow.org/guide/migrate\" target=\"_blank\">upgrade</a> now \n",
              "or ensure your notebook will continue to use TensorFlow 1.x via the <code>%tensorflow_version 1.x</code> magic:\n",
              "<a href=\"https://colab.research.google.com/notebooks/tensorflow_version.ipynb\" target=\"_blank\">more info</a>.</p>\n"
            ],
            "text/plain": [
              "<IPython.core.display.HTML object>"
            ]
          },
          "metadata": {
            "tags": []
          }
        },
        {
          "output_type": "stream",
          "text": [
            "[nltk_data] Downloading package stopwords to /root/nltk_data...\n",
            "[nltk_data]   Unzipping corpora/stopwords.zip.\n",
            "[nltk_data] Downloading package wordnet to /root/nltk_data...\n",
            "[nltk_data]   Unzipping corpora/wordnet.zip.\n",
            "[nltk_data] Downloading package averaged_perceptron_tagger to\n",
            "[nltk_data]     /root/nltk_data...\n",
            "[nltk_data]   Unzipping taggers/averaged_perceptron_tagger.zip.\n",
            "[nltk_data] Downloading package punkt to /root/nltk_data...\n",
            "[nltk_data]   Unzipping tokenizers/punkt.zip.\n"
          ],
          "name": "stdout"
        }
      ]
    },
    {
      "cell_type": "code",
      "metadata": {
        "id": "jgseRNtSa4O8",
        "colab_type": "code",
        "colab": {}
      },
      "source": [
        "##### Declare Variables #####\n",
        "seed = 1234\n",
        "splits = 5\n",
        "folds = StratifiedKFold(n_splits=splits, shuffle=True, random_state=seed)\n",
        "resp = 'severe_toxic'\n",
        "y = train[resp]\n",
        "class_pred = np.zeros(len(train['clean_comments']))\n",
        "auc,precision,recall,thresholds = [],[],[],[]\n"
      ],
      "execution_count": 0,
      "outputs": []
    },
    {
      "cell_type": "code",
      "metadata": {
        "id": "2qKmhvVVWtoi",
        "colab_type": "code",
        "colab": {
          "base_uri": "https://localhost:8080/",
          "height": 315
        },
        "outputId": "73fc2fb3-fcd5-4c5d-9fe5-5f66405497d1"
      },
      "source": [
        "##### LSTM using Keras #####\n",
        "\n",
        "## Declare parameters for pre-processing\n",
        "max_words = 20000\n",
        "max_seq_length = 200\n",
        "\n",
        "## Tokenize text, convert to list of indices\n",
        "tokenizer = Tokenizer(num_words=max_words, lower=True)\n",
        "tokenizer.fit_on_texts(train['clean_comments'])\n",
        "word_index = tokenizer.word_index\n",
        "print('Found {} unique tokens.'.format(len(word_index)))\n",
        "X = tokenizer.texts_to_sequences(train['clean_comments'])\n",
        "\n",
        "## Plot word length per comment to find good cutoff for max_seq_len\n",
        "#totalNumWords = [len(one_comment) for one_comment in X]\n",
        "#plt.hist(totalNumWords,bins = np.arange(0,410,10))\n",
        "#plt.title(\"Word Length Per Comment\")\n",
        "#plt.show()\n",
        "\n",
        "## Plot word length per comment to find good cutoff for max_seq_len\n",
        "totalNumWords = [len(one_comment) for one_comment in X]\n",
        "plt.hist(totalNumWords,bins = np.arange(0,410,10))\n",
        "plt.title(\"Word Length Per Comment\")\n",
        "plt.show()\n",
        "\n",
        "## Convert list of indices to ndarray, padding sequences\n",
        "X = pad_sequences(X, maxlen=max_seq_length)\n",
        "print('Shape of data tensor:', X.shape)\n",
        "\n",
        "X_train, X_test, y_train, y_test = train_test_split(X,y, test_size = 0.20, random_state = seed)"
      ],
      "execution_count": 3,
      "outputs": [
        {
          "output_type": "stream",
          "text": [
            "Found 218759 unique tokens.\n"
          ],
          "name": "stdout"
        },
        {
          "output_type": "display_data",
          "data": {
            "image/png": "[encoded data removed]",
            "text/plain": [
              "<Figure size 432x288 with 1 Axes>"
            ]
          },
          "metadata": {
            "tags": []
          }
        },
        {
          "output_type": "stream",
          "text": [
            "Shape of data tensor: (159571, 200)\n"
          ],
          "name": "stdout"
        }
      ]
    },
    {
      "cell_type": "code",
      "metadata": {
        "id": "RkiZoiGxkm-S",
        "colab_type": "code",
        "colab": {
          "base_uri": "https://localhost:8080/",
          "height": 632
        },
        "outputId": "25adb060-29cc-46cb-dfc0-a31753efb8c9"
      },
      "source": [
        "## Define hyperparameters\n",
        "embedding_dim = 100\n",
        "lstm_units=100\n",
        "drop_out = 0.2\n",
        "epochs = 10\n",
        "batch_size = 64\n",
        "\n",
        "## Compile model\n",
        "model = Sequential()\n",
        "model.add(Embedding(input_dim=max_words, output_dim=embedding_dim, input_length=X.shape[1]))\n",
        "model.add(Bidirectional(LSTM(lstm_units)))\n",
        "model.add(Dropout(drop_out))\n",
        "model.add(Dense(1, activation='sigmoid'))\n",
        "model.compile(loss='binary_crossentropy', optimizer='adam', metrics=['accuracy'])\n",
        "print(model.summary())"
      ],
      "execution_count": 4,
      "outputs": [
        {
          "output_type": "stream",
          "text": [
            "WARNING:tensorflow:From /usr/local/lib/python3.6/dist-packages/keras/backend/tensorflow_backend.py:66: The name tf.get_default_graph is deprecated. Please use tf.compat.v1.get_default_graph instead.\n",
            "\n",
            "WARNING:tensorflow:From /usr/local/lib/python3.6/dist-packages/keras/backend/tensorflow_backend.py:541: The name tf.placeholder is deprecated. Please use tf.compat.v1.placeholder instead.\n",
            "\n",
            "WARNING:tensorflow:From /usr/local/lib/python3.6/dist-packages/keras/backend/tensorflow_backend.py:4432: The name tf.random_uniform is deprecated. Please use tf.random.uniform instead.\n",
            "\n",
            "WARNING:tensorflow:From /usr/local/lib/python3.6/dist-packages/keras/backend/tensorflow_backend.py:148: The name tf.placeholder_with_default is deprecated. Please use tf.compat.v1.placeholder_with_default instead.\n",
            "\n",
            "WARNING:tensorflow:From /usr/local/lib/python3.6/dist-packages/keras/backend/tensorflow_backend.py:3733: calling dropout (from tensorflow.python.ops.nn_ops) with keep_prob is deprecated and will be removed in a future version.\n",
            "Instructions for updating:\n",
            "Please use `rate` instead of `keep_prob`. Rate should be set to `rate = 1 - keep_prob`.\n",
            "WARNING:tensorflow:From /usr/local/lib/python3.6/dist-packages/keras/optimizers.py:793: The name tf.train.Optimizer is deprecated. Please use tf.compat.v1.train.Optimizer instead.\n",
            "\n",
            "WARNING:tensorflow:From /usr/local/lib/python3.6/dist-packages/keras/backend/tensorflow_backend.py:3657: The name tf.log is deprecated. Please use tf.math.log instead.\n",
            "\n",
            "WARNING:tensorflow:From /usr/local/lib/python3.6/dist-packages/tensorflow_core/python/ops/nn_impl.py:183: where (from tensorflow.python.ops.array_ops) is deprecated and will be removed in a future version.\n",
            "Instructions for updating:\n",
            "Use tf.where in 2.0, which has the same broadcast rule as np.where\n",
            "Model: \"sequential_1\"\n",
            "_________________________________________________________________\n",
            "Layer (type)                 Output Shape              Param #   \n",
            "=================================================================\n",
            "embedding_1 (Embedding)      (None, 200, 100)          2000000   \n",
            "_________________________________________________________________\n",
            "bidirectional_1 (Bidirection (None, 200)               160800    \n",
            "_________________________________________________________________\n",
            "dropout_1 (Dropout)          (None, 200)               0         \n",
            "_________________________________________________________________\n",
            "dense_1 (Dense)              (None, 1)                 201       \n",
            "=================================================================\n",
            "Total params: 2,161,001\n",
            "Trainable params: 2,161,001\n",
            "Non-trainable params: 0\n",
            "_________________________________________________________________\n",
            "None\n"
          ],
          "name": "stdout"
        }
      ]
    },
    {
      "cell_type": "code",
      "metadata": {
        "id": "qDDNZSTurSsn",
        "colab_type": "code",
        "colab": {
          "base_uri": "https://localhost:8080/",
          "height": 700
        },
        "outputId": "f3940c61-8b55-44e9-a93f-7071c284596a"
      },
      "source": [
        "## Fit model\n",
        "import warnings\n",
        "warnings.filterwarnings(\"ignore\")\n",
        "\n",
        "print(\"Begin training for class {}\".format(resp))\n",
        "t0 = time.time()\n",
        "history = model.fit(X_train, y_train, epochs=epochs, batch_size=batch_size, validation_split=0.2)\n",
        "print(\"Model Training Finished | Time: {}m\".format(str(round((time.time()-t0)/60,2))))\n"
      ],
      "execution_count": 5,
      "outputs": [
        {
          "output_type": "stream",
          "text": [
            "Begin training for class severe_toxic\n",
            "WARNING:tensorflow:From /usr/local/lib/python3.6/dist-packages/keras/backend/tensorflow_backend.py:1033: The name tf.assign_add is deprecated. Please use tf.compat.v1.assign_add instead.\n",
            "\n",
            "WARNING:tensorflow:From /usr/local/lib/python3.6/dist-packages/keras/backend/tensorflow_backend.py:1020: The name tf.assign is deprecated. Please use tf.compat.v1.assign instead.\n",
            "\n",
            "WARNING:tensorflow:From /usr/local/lib/python3.6/dist-packages/keras/backend/tensorflow_backend.py:3005: The name tf.Session is deprecated. Please use tf.compat.v1.Session instead.\n",
            "\n",
            "Train on 102124 samples, validate on 25532 samples\n",
            "Epoch 1/10\n",
            "WARNING:tensorflow:From /usr/local/lib/python3.6/dist-packages/keras/backend/tensorflow_backend.py:190: The name tf.get_default_session is deprecated. Please use tf.compat.v1.get_default_session instead.\n",
            "\n",
            "WARNING:tensorflow:From /usr/local/lib/python3.6/dist-packages/keras/backend/tensorflow_backend.py:197: The name tf.ConfigProto is deprecated. Please use tf.compat.v1.ConfigProto instead.\n",
            "\n",
            "WARNING:tensorflow:From /usr/local/lib/python3.6/dist-packages/keras/backend/tensorflow_backend.py:207: The name tf.global_variables is deprecated. Please use tf.compat.v1.global_variables instead.\n",
            "\n",
            "WARNING:tensorflow:From /usr/local/lib/python3.6/dist-packages/keras/backend/tensorflow_backend.py:216: The name tf.is_variable_initialized is deprecated. Please use tf.compat.v1.is_variable_initialized instead.\n",
            "\n",
            "WARNING:tensorflow:From /usr/local/lib/python3.6/dist-packages/keras/backend/tensorflow_backend.py:223: The name tf.variables_initializer is deprecated. Please use tf.compat.v1.variables_initializer instead.\n",
            "\n",
            "102124/102124 [==============================] - 1187s 12ms/step - loss: 0.0367 - acc: 0.9893 - val_loss: 0.0255 - val_acc: 0.9899\n",
            "Epoch 2/10\n",
            "102124/102124 [==============================] - 1188s 12ms/step - loss: 0.0215 - acc: 0.9906 - val_loss: 0.0247 - val_acc: 0.9903\n",
            "Epoch 3/10\n",
            "102124/102124 [==============================] - 1183s 12ms/step - loss: 0.0170 - acc: 0.9922 - val_loss: 0.0282 - val_acc: 0.9893\n",
            "Epoch 4/10\n",
            "102124/102124 [==============================] - 1184s 12ms/step - loss: 0.0133 - acc: 0.9943 - val_loss: 0.0302 - val_acc: 0.9889\n",
            "Epoch 5/10\n",
            "102124/102124 [==============================] - 1195s 12ms/step - loss: 0.0108 - acc: 0.9954 - val_loss: 0.0340 - val_acc: 0.9873\n",
            "Epoch 6/10\n",
            "102124/102124 [==============================] - 1202s 12ms/step - loss: 0.0090 - acc: 0.9961 - val_loss: 0.0368 - val_acc: 0.9880\n",
            "Epoch 7/10\n",
            "102124/102124 [==============================] - 1208s 12ms/step - loss: 0.0074 - acc: 0.9967 - val_loss: 0.0420 - val_acc: 0.9872\n",
            "Epoch 8/10\n",
            "102124/102124 [==============================] - 1207s 12ms/step - loss: 0.0066 - acc: 0.9971 - val_loss: 0.0426 - val_acc: 0.9883\n",
            "Epoch 9/10\n",
            "102124/102124 [==============================] - 1196s 12ms/step - loss: 0.0057 - acc: 0.9975 - val_loss: 0.0517 - val_acc: 0.9859\n",
            "Epoch 10/10\n",
            "102124/102124 [==============================] - 1176s 12ms/step - loss: 0.0050 - acc: 0.9978 - val_loss: 0.0515 - val_acc: 0.9875\n",
            "Model Training Finished | Time: 198.79m\n"
          ],
          "name": "stdout"
        }
      ]
    },
    {
      "cell_type": "code",
      "metadata": {
        "id": "hF-2K3PiAILt",
        "colab_type": "code",
        "colab": {
          "base_uri": "https://localhost:8080/",
          "height": 85
        },
        "outputId": "7b350270-3c42-4400-c103-0da553a2f255"
      },
      "source": [
        "accr = model.evaluate(X_test,y_test)\n",
        "print('Test set\\n  Loss: {:0.3f}\\n  Accuracy: {:0.3f}'.format(accr[0],accr[1]))"
      ],
      "execution_count": 6,
      "outputs": [
        {
          "output_type": "stream",
          "text": [
            "31915/31915 [==============================] - 92s 3ms/step\n",
            "Test set\n",
            "  Loss: 0.051\n",
            "  Accuracy: 0.988\n"
          ],
          "name": "stdout"
        }
      ]
    },
    {
      "cell_type": "code",
      "metadata": {
        "id": "Qtjl1a-4Ab7K",
        "colab_type": "code",
        "colab": {}
      },
      "source": [
        "preds = model.predict(X_test)"
      ],
      "execution_count": 0,
      "outputs": []
    },
    {
      "cell_type": "code",
      "metadata": {
        "id": "1qcyx2GqEQG3",
        "colab_type": "code",
        "colab": {
          "base_uri": "https://localhost:8080/",
          "height": 187
        },
        "outputId": "7f92f168-a315-42b7-d941-488661cc5204"
      },
      "source": [
        "preds[:10]"
      ],
      "execution_count": 13,
      "outputs": [
        {
          "output_type": "execute_result",
          "data": {
            "text/plain": [
              "array([[5.9604645e-06],\n",
              "       [5.4657459e-05],\n",
              "       [5.3644180e-07],\n",
              "       [5.9604645e-08],\n",
              "       [1.5497208e-06],\n",
              "       [2.6822090e-07],\n",
              "       [3.5762787e-07],\n",
              "       [2.9802322e-08],\n",
              "       [6.9800019e-04],\n",
              "       [2.9534101e-05]], dtype=float32)"
            ]
          },
          "metadata": {
            "tags": []
          },
          "execution_count": 13
        }
      ]
    },
    {
      "cell_type": "code",
      "metadata": {
        "id": "ZyHgIgBpD5BW",
        "colab_type": "code",
        "colab": {
          "base_uri": "https://localhost:8080/",
          "height": 295
        },
        "outputId": "d36fdd35-e6b6-49d7-9c2d-3c0e91e02691"
      },
      "source": [
        "#from sklearn.metrics import classification_report\n",
        "#print(classification_report(y_test,preds))\n",
        "\n",
        "# Plot precision-recall curve\n",
        "prec, recal, thresh = precision_recall_curve(y_test, preds)\n",
        "plt.figure()\n",
        "plt.plot(recal, prec, 'ro', linewidth=2,label='Test Set Preds')\n",
        "plt.xlabel('Recall')\n",
        "plt.ylabel('Precision')\n",
        "plt.title('Class: '+resp+' | Average Precision: '+str(average_precision_score(y_test,preds,average='weighted')))\n",
        "plt.legend()\n",
        "plt.show()"
      ],
      "execution_count": 14,
      "outputs": [
        {
          "output_type": "display_data",
          "data": {
            "image/png": "[encoded data removed]",
            "text/plain": [
              "<Figure size 432x288 with 1 Axes>"
            ]
          },
          "metadata": {
            "tags": []
          }
        }
      ]
    }
  ]
}